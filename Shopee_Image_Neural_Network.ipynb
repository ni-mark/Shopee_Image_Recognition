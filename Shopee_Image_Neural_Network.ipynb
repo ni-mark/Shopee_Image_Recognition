{
  "nbformat": 4,
  "nbformat_minor": 0,
  "metadata": {
    "colab": {
      "provenance": [],
      "collapsed_sections": [],
      "mount_file_id": "116xo-_pBf25ZKUQEHK1efA8LqixsCZIg",
      "authorship_tag": "ABX9TyME1Y+iuJzJG4MsgJcOnzPP"
    },
    "kernelspec": {
      "name": "python3",
      "display_name": "Python 3"
    },
    "language_info": {
      "name": "python"
    },
    "gpuClass": "standard",
    "accelerator": "GPU",
    "widgets": {
      "application/vnd.jupyter.widget-state+json": {
        "bf253387b0584e9abbec9823dc3de2f3": {
          "model_module": "@jupyter-widgets/controls",
          "model_name": "HBoxModel",
          "model_module_version": "1.5.0",
          "state": {
            "_dom_classes": [],
            "_model_module": "@jupyter-widgets/controls",
            "_model_module_version": "1.5.0",
            "_model_name": "HBoxModel",
            "_view_count": null,
            "_view_module": "@jupyter-widgets/controls",
            "_view_module_version": "1.5.0",
            "_view_name": "HBoxView",
            "box_style": "",
            "children": [
              "IPY_MODEL_d9a69bb5151442c98bf56ade5b75dd2e",
              "IPY_MODEL_278d8f91c83744249108bb21c46acaa5",
              "IPY_MODEL_935f2bcd17f1449eb5ac3bfc82803366"
            ],
            "layout": "IPY_MODEL_14f4fadbe9db42c695d41177f60b391c"
          }
        },
        "d9a69bb5151442c98bf56ade5b75dd2e": {
          "model_module": "@jupyter-widgets/controls",
          "model_name": "HTMLModel",
          "model_module_version": "1.5.0",
          "state": {
            "_dom_classes": [],
            "_model_module": "@jupyter-widgets/controls",
            "_model_module_version": "1.5.0",
            "_model_name": "HTMLModel",
            "_view_count": null,
            "_view_module": "@jupyter-widgets/controls",
            "_view_module_version": "1.5.0",
            "_view_name": "HTMLView",
            "description": "",
            "description_tooltip": null,
            "layout": "IPY_MODEL_0064c24f2855401e89f238a46cb9d8e5",
            "placeholder": "​",
            "style": "IPY_MODEL_3276de78c3034d5c96d3f44a52a45967",
            "value": "100%"
          }
        },
        "278d8f91c83744249108bb21c46acaa5": {
          "model_module": "@jupyter-widgets/controls",
          "model_name": "FloatProgressModel",
          "model_module_version": "1.5.0",
          "state": {
            "_dom_classes": [],
            "_model_module": "@jupyter-widgets/controls",
            "_model_module_version": "1.5.0",
            "_model_name": "FloatProgressModel",
            "_view_count": null,
            "_view_module": "@jupyter-widgets/controls",
            "_view_module_version": "1.5.0",
            "_view_name": "ProgressView",
            "bar_style": "success",
            "description": "",
            "description_tooltip": null,
            "layout": "IPY_MODEL_0dea23f46c9d4e43bccb83413b3a002e",
            "max": 21388428,
            "min": 0,
            "orientation": "horizontal",
            "style": "IPY_MODEL_97a4ab93f9754abf94bb230caa985fbf",
            "value": 21388428
          }
        },
        "935f2bcd17f1449eb5ac3bfc82803366": {
          "model_module": "@jupyter-widgets/controls",
          "model_name": "HTMLModel",
          "model_module_version": "1.5.0",
          "state": {
            "_dom_classes": [],
            "_model_module": "@jupyter-widgets/controls",
            "_model_module_version": "1.5.0",
            "_model_name": "HTMLModel",
            "_view_count": null,
            "_view_module": "@jupyter-widgets/controls",
            "_view_module_version": "1.5.0",
            "_view_name": "HTMLView",
            "description": "",
            "description_tooltip": null,
            "layout": "IPY_MODEL_e87eafb94a614e66bccf7a56008e85b2",
            "placeholder": "​",
            "style": "IPY_MODEL_2b581c72fa0644e4833b8682f8adb2aa",
            "value": " 20.4M/20.4M [00:00&lt;00:00, 70.7MB/s]"
          }
        },
        "14f4fadbe9db42c695d41177f60b391c": {
          "model_module": "@jupyter-widgets/base",
          "model_name": "LayoutModel",
          "model_module_version": "1.2.0",
          "state": {
            "_model_module": "@jupyter-widgets/base",
            "_model_module_version": "1.2.0",
            "_model_name": "LayoutModel",
            "_view_count": null,
            "_view_module": "@jupyter-widgets/base",
            "_view_module_version": "1.2.0",
            "_view_name": "LayoutView",
            "align_content": null,
            "align_items": null,
            "align_self": null,
            "border": null,
            "bottom": null,
            "display": null,
            "flex": null,
            "flex_flow": null,
            "grid_area": null,
            "grid_auto_columns": null,
            "grid_auto_flow": null,
            "grid_auto_rows": null,
            "grid_column": null,
            "grid_gap": null,
            "grid_row": null,
            "grid_template_areas": null,
            "grid_template_columns": null,
            "grid_template_rows": null,
            "height": null,
            "justify_content": null,
            "justify_items": null,
            "left": null,
            "margin": null,
            "max_height": null,
            "max_width": null,
            "min_height": null,
            "min_width": null,
            "object_fit": null,
            "object_position": null,
            "order": null,
            "overflow": null,
            "overflow_x": null,
            "overflow_y": null,
            "padding": null,
            "right": null,
            "top": null,
            "visibility": null,
            "width": null
          }
        },
        "0064c24f2855401e89f238a46cb9d8e5": {
          "model_module": "@jupyter-widgets/base",
          "model_name": "LayoutModel",
          "model_module_version": "1.2.0",
          "state": {
            "_model_module": "@jupyter-widgets/base",
            "_model_module_version": "1.2.0",
            "_model_name": "LayoutModel",
            "_view_count": null,
            "_view_module": "@jupyter-widgets/base",
            "_view_module_version": "1.2.0",
            "_view_name": "LayoutView",
            "align_content": null,
            "align_items": null,
            "align_self": null,
            "border": null,
            "bottom": null,
            "display": null,
            "flex": null,
            "flex_flow": null,
            "grid_area": null,
            "grid_auto_columns": null,
            "grid_auto_flow": null,
            "grid_auto_rows": null,
            "grid_column": null,
            "grid_gap": null,
            "grid_row": null,
            "grid_template_areas": null,
            "grid_template_columns": null,
            "grid_template_rows": null,
            "height": null,
            "justify_content": null,
            "justify_items": null,
            "left": null,
            "margin": null,
            "max_height": null,
            "max_width": null,
            "min_height": null,
            "min_width": null,
            "object_fit": null,
            "object_position": null,
            "order": null,
            "overflow": null,
            "overflow_x": null,
            "overflow_y": null,
            "padding": null,
            "right": null,
            "top": null,
            "visibility": null,
            "width": null
          }
        },
        "3276de78c3034d5c96d3f44a52a45967": {
          "model_module": "@jupyter-widgets/controls",
          "model_name": "DescriptionStyleModel",
          "model_module_version": "1.5.0",
          "state": {
            "_model_module": "@jupyter-widgets/controls",
            "_model_module_version": "1.5.0",
            "_model_name": "DescriptionStyleModel",
            "_view_count": null,
            "_view_module": "@jupyter-widgets/base",
            "_view_module_version": "1.2.0",
            "_view_name": "StyleView",
            "description_width": ""
          }
        },
        "0dea23f46c9d4e43bccb83413b3a002e": {
          "model_module": "@jupyter-widgets/base",
          "model_name": "LayoutModel",
          "model_module_version": "1.2.0",
          "state": {
            "_model_module": "@jupyter-widgets/base",
            "_model_module_version": "1.2.0",
            "_model_name": "LayoutModel",
            "_view_count": null,
            "_view_module": "@jupyter-widgets/base",
            "_view_module_version": "1.2.0",
            "_view_name": "LayoutView",
            "align_content": null,
            "align_items": null,
            "align_self": null,
            "border": null,
            "bottom": null,
            "display": null,
            "flex": null,
            "flex_flow": null,
            "grid_area": null,
            "grid_auto_columns": null,
            "grid_auto_flow": null,
            "grid_auto_rows": null,
            "grid_column": null,
            "grid_gap": null,
            "grid_row": null,
            "grid_template_areas": null,
            "grid_template_columns": null,
            "grid_template_rows": null,
            "height": null,
            "justify_content": null,
            "justify_items": null,
            "left": null,
            "margin": null,
            "max_height": null,
            "max_width": null,
            "min_height": null,
            "min_width": null,
            "object_fit": null,
            "object_position": null,
            "order": null,
            "overflow": null,
            "overflow_x": null,
            "overflow_y": null,
            "padding": null,
            "right": null,
            "top": null,
            "visibility": null,
            "width": null
          }
        },
        "97a4ab93f9754abf94bb230caa985fbf": {
          "model_module": "@jupyter-widgets/controls",
          "model_name": "ProgressStyleModel",
          "model_module_version": "1.5.0",
          "state": {
            "_model_module": "@jupyter-widgets/controls",
            "_model_module_version": "1.5.0",
            "_model_name": "ProgressStyleModel",
            "_view_count": null,
            "_view_module": "@jupyter-widgets/base",
            "_view_module_version": "1.2.0",
            "_view_name": "StyleView",
            "bar_color": null,
            "description_width": ""
          }
        },
        "e87eafb94a614e66bccf7a56008e85b2": {
          "model_module": "@jupyter-widgets/base",
          "model_name": "LayoutModel",
          "model_module_version": "1.2.0",
          "state": {
            "_model_module": "@jupyter-widgets/base",
            "_model_module_version": "1.2.0",
            "_model_name": "LayoutModel",
            "_view_count": null,
            "_view_module": "@jupyter-widgets/base",
            "_view_module_version": "1.2.0",
            "_view_name": "LayoutView",
            "align_content": null,
            "align_items": null,
            "align_self": null,
            "border": null,
            "bottom": null,
            "display": null,
            "flex": null,
            "flex_flow": null,
            "grid_area": null,
            "grid_auto_columns": null,
            "grid_auto_flow": null,
            "grid_auto_rows": null,
            "grid_column": null,
            "grid_gap": null,
            "grid_row": null,
            "grid_template_areas": null,
            "grid_template_columns": null,
            "grid_template_rows": null,
            "height": null,
            "justify_content": null,
            "justify_items": null,
            "left": null,
            "margin": null,
            "max_height": null,
            "max_width": null,
            "min_height": null,
            "min_width": null,
            "object_fit": null,
            "object_position": null,
            "order": null,
            "overflow": null,
            "overflow_x": null,
            "overflow_y": null,
            "padding": null,
            "right": null,
            "top": null,
            "visibility": null,
            "width": null
          }
        },
        "2b581c72fa0644e4833b8682f8adb2aa": {
          "model_module": "@jupyter-widgets/controls",
          "model_name": "DescriptionStyleModel",
          "model_module_version": "1.5.0",
          "state": {
            "_model_module": "@jupyter-widgets/controls",
            "_model_module_version": "1.5.0",
            "_model_name": "DescriptionStyleModel",
            "_view_count": null,
            "_view_module": "@jupyter-widgets/base",
            "_view_module_version": "1.2.0",
            "_view_name": "StyleView",
            "description_width": ""
          }
        }
      }
    }
  },
  "cells": [
    {
      "cell_type": "code",
      "execution_count": 1,
      "metadata": {
        "id": "e9wBn6vidGxq"
      },
      "outputs": [],
      "source": [
        "# import packages\n",
        "import numpy as np\n",
        "import pandas as pd\n",
        "import os\n",
        "import os.path\n",
        "import cv2\n",
        "from PIL import Image\n",
        "from glob import glob\n",
        "\n",
        "import matplotlib.pyplot as plt\n",
        "import seaborn as sns\n",
        "\n",
        "os.environ['CUDA_LAUNCH_BLOCKING'] = \"1\""
      ]
    },
    {
      "cell_type": "code",
      "source": [
        "# PyTorch Packages\n",
        "import torch\n",
        "from torch.utils.data import Dataset, DataLoader\n",
        "import torchvision \n",
        "from torchvision import transforms, datasets, models\n",
        "import torch.nn as nn\n",
        "import torch.nn.functional as F\n",
        "import torch.optim as optim"
      ],
      "metadata": {
        "id": "o9D8cFzZeS-k"
      },
      "execution_count": 2,
      "outputs": []
    },
    {
      "cell_type": "code",
      "source": [
        "# Mount Google Drive\n",
        "from google.colab import drive\n",
        "drive.mount('/content/drive/')\n",
        "data_path = \"Colab Notebooks/'Shopee Capstone Project'/\"\n",
        "import sys\n",
        "sys.path.append('/content/drive/My Drive/{}'.format(data_path))"
      ],
      "metadata": {
        "colab": {
          "base_uri": "https://localhost:8080/"
        },
        "id": "swhB7QF3d9Dx",
        "outputId": "ce077c30-6fea-41dd-fe20-c42758b40891"
      },
      "execution_count": 3,
      "outputs": [
        {
          "output_type": "stream",
          "name": "stdout",
          "text": [
            "Drive already mounted at /content/drive/; to attempt to forcibly remount, call drive.mount(\"/content/drive/\", force_remount=True).\n"
          ]
        }
      ]
    },
    {
      "cell_type": "code",
      "source": [
        "!ls drive/MyDrive/Colab\\ Notebooks/Shopee_Capstone_Project"
      ],
      "metadata": {
        "colab": {
          "base_uri": "https://localhost:8080/"
        },
        "id": "iU0rWafg3Mad",
        "outputId": "6db42d3f-0f5d-4b7d-f4bb-0c3f32173e45"
      },
      "execution_count": 5,
      "outputs": [
        {
          "output_type": "stream",
          "name": "stdout",
          "text": [
            " image_data  'Shopee Image Neural Network.ipynb'   testdf.csv   traindf.csv\n"
          ]
        }
      ]
    },
    {
      "cell_type": "code",
      "source": [
        "# Call Train and Test Dataframe \n",
        "traindf = pd.read_csv('/content/drive/MyDrive/Colab Notebooks/Shopee_Capstone_Project/traindf.csv')"
      ],
      "metadata": {
        "id": "lIeH4GOaLEhe"
      },
      "execution_count": 6,
      "outputs": []
    },
    {
      "cell_type": "code",
      "source": [
        "testdf = pd.read_csv('/content/drive/MyDrive/Colab Notebooks/Shopee_Capstone_Project/testdf.csv')"
      ],
      "metadata": {
        "id": "yLJLMDAOHEaa"
      },
      "execution_count": 7,
      "outputs": []
    },
    {
      "cell_type": "code",
      "source": [
        "#Dir = '/content/drive/MyDrive/Colab Notebooks/Shopee_Capstone_Project'\n",
        "#test_data_dir = os.path.join(Dir, 'test_images')\n",
        "#print(test_data_dir)\n",
        "#print(len(os.listdir(test_data_dir)))"
      ],
      "metadata": {
        "id": "9_FINfk4JtkI"
      },
      "execution_count": 8,
      "outputs": []
    },
    {
      "cell_type": "code",
      "source": [
        "Dir = '/content/drive/MyDrive/Colab Notebooks/Shopee_Capstone_Project/image_data'\n",
        "train_data_dir = os.path.join(Dir, 'train/*.jpg')\n",
        "test_data_dir = os.path.join(Dir, 'test/*.jpg')\n",
        "print(train_data_dir)\n",
        "print(test_data_dir)\n",
        "train_img_paths = list(glob(train_data_dir))\n",
        "test_img_paths = list(glob(test_data_dir))\n",
        "print(test_img_paths)"
      ],
      "metadata": {
        "colab": {
          "base_uri": "https://localhost:8080/"
        },
        "id": "oLRzyrsNBeAy",
        "outputId": "9fa21770-584c-4e22-ef19-2e23143b2285"
      },
      "execution_count": 11,
      "outputs": [
        {
          "output_type": "stream",
          "name": "stdout",
          "text": [
            "/content/drive/MyDrive/Colab Notebooks/Shopee_Capstone_Project/image_data/train/*.jpg\n",
            "/content/drive/MyDrive/Colab Notebooks/Shopee_Capstone_Project/image_data/test/*.jpg\n",
            "['/content/drive/MyDrive/Colab Notebooks/Shopee_Capstone_Project/image_data/test/0006c8e5462ae52167402bac1c2e916e.jpg', '/content/drive/MyDrive/Colab Notebooks/Shopee_Capstone_Project/image_data/test/0007585c4d0f932859339129f709bfdc.jpg', '/content/drive/MyDrive/Colab Notebooks/Shopee_Capstone_Project/image_data/test/0008377d3662e83ef44e1881af38b879.jpg']\n"
          ]
        }
      ]
    },
    {
      "cell_type": "code",
      "source": [
        "list(map(print, test_img_paths))"
      ],
      "metadata": {
        "colab": {
          "base_uri": "https://localhost:8080/"
        },
        "id": "DNt4mWKkYM15",
        "outputId": "81f3344b-a73c-4987-8c1b-892dd9f66d57"
      },
      "execution_count": 12,
      "outputs": [
        {
          "output_type": "stream",
          "name": "stdout",
          "text": [
            "/content/drive/MyDrive/Colab Notebooks/Shopee_Capstone_Project/image_data/test/0006c8e5462ae52167402bac1c2e916e.jpg\n",
            "/content/drive/MyDrive/Colab Notebooks/Shopee_Capstone_Project/image_data/test/0007585c4d0f932859339129f709bfdc.jpg\n",
            "/content/drive/MyDrive/Colab Notebooks/Shopee_Capstone_Project/image_data/test/0008377d3662e83ef44e1881af38b879.jpg\n"
          ]
        },
        {
          "output_type": "execute_result",
          "data": {
            "text/plain": [
              "[None, None, None]"
            ]
          },
          "metadata": {},
          "execution_count": 12
        }
      ]
    },
    {
      "cell_type": "markdown",
      "source": [
        "# Generate necessary dataframes and image paths \n",
        "\n",
        "\n"
      ],
      "metadata": {
        "id": "DAnuGl0uDMxv"
      }
    },
    {
      "cell_type": "code",
      "source": [
        "# Test to see that the images have been mounted \n",
        "count_train = len(train_img_paths)\n",
        "count_test = len(test_img_paths)\n",
        "print(count_train, count_test)"
      ],
      "metadata": {
        "colab": {
          "base_uri": "https://localhost:8080/"
        },
        "id": "AoNVlHw_3MUt",
        "outputId": "b9a8b0b6-33b6-43ca-829e-009d2608c4cf"
      },
      "execution_count": 13,
      "outputs": [
        {
          "output_type": "stream",
          "name": "stdout",
          "text": [
            "32424 3\n"
          ]
        }
      ]
    },
    {
      "cell_type": "code",
      "source": [
        "# Test print first image in train images\n",
        "from google.colab.patches import cv2_imshow\n",
        "\n",
        "img = cv2.imread(train_img_paths[0])\n",
        "cv2_imshow(img)\n",
        "cv2.waitKey(0)\n",
        "cv2.destroyAllWindows()"
      ],
      "metadata": {
        "colab": {
          "base_uri": "https://localhost:8080/",
          "height": 817
        },
        "id": "M3uJFuaNYi0L",
        "outputId": "eebbf644-32fa-4552-b820-1a4f88a9de1f"
      },
      "execution_count": 17,
      "outputs": [
        {
          "output_type": "display_data",
          "data": {
            "text/plain": [
              "<PIL.Image.Image image mode=RGB size=800x800 at 0x7F2A9B369A50>"
            ],
            "image/png": "[encoded data removed]"
          },
          "metadata": {}
        }
      ]
    },
    {
      "cell_type": "code",
      "source": [
        "# Creating a DataFrame with just label_group  \n",
        "label = traindf.groupby('label_group')['image'].count().reset_index()\n",
        "label.columns = ['label_group','image_number']\n",
        "label"
      ],
      "metadata": {
        "colab": {
          "base_uri": "https://localhost:8080/",
          "height": 424
        },
        "id": "wUzESfVANbtC",
        "outputId": "3b1da24a-65ae-4cd4-b90f-32cf5b137825"
      },
      "execution_count": 18,
      "outputs": [
        {
          "output_type": "execute_result",
          "data": {
            "text/plain": [
              "       label_group  image_number\n",
              "0           258047             3\n",
              "1           297977             2\n",
              "2           645628            12\n",
              "3           801176             2\n",
              "4           887886             2\n",
              "...            ...           ...\n",
              "11009   4292154092             2\n",
              "11010   4292520070            11\n",
              "11011   4292939171             2\n",
              "11012   4293276364             2\n",
              "11013   4294197112             4\n",
              "\n",
              "[11014 rows x 2 columns]"
            ],
            "text/html": [
              "\n",
              "  <div id=\"df-6a914a3b-c1a8-4a72-bfb9-5c8386fc1d7d\">\n",
              "    <div class=\"colab-df-container\">\n",
              "      <div>\n",
              "<style scoped>\n",
              "    .dataframe tbody tr th:only-of-type {\n",
              "        vertical-align: middle;\n",
              "    }\n",
              "\n",
              "    .dataframe tbody tr th {\n",
              "        vertical-align: top;\n",
              "    }\n",
              "\n",
              "    .dataframe thead th {\n",
              "        text-align: right;\n",
              "    }\n",
              "</style>\n",
              "<table border=\"1\" class=\"dataframe\">\n",
              "  <thead>\n",
              "    <tr style=\"text-align: right;\">\n",
              "      <th></th>\n",
              "      <th>label_group</th>\n",
              "      <th>image_number</th>\n",
              "    </tr>\n",
              "  </thead>\n",
              "  <tbody>\n",
              "    <tr>\n",
              "      <th>0</th>\n",
              "      <td>258047</td>\n",
              "      <td>3</td>\n",
              "    </tr>\n",
              "    <tr>\n",
              "      <th>1</th>\n",
              "      <td>297977</td>\n",
              "      <td>2</td>\n",
              "    </tr>\n",
              "    <tr>\n",
              "      <th>2</th>\n",
              "      <td>645628</td>\n",
              "      <td>12</td>\n",
              "    </tr>\n",
              "    <tr>\n",
              "      <th>3</th>\n",
              "      <td>801176</td>\n",
              "      <td>2</td>\n",
              "    </tr>\n",
              "    <tr>\n",
              "      <th>4</th>\n",
              "      <td>887886</td>\n",
              "      <td>2</td>\n",
              "    </tr>\n",
              "    <tr>\n",
              "      <th>...</th>\n",
              "      <td>...</td>\n",
              "      <td>...</td>\n",
              "    </tr>\n",
              "    <tr>\n",
              "      <th>11009</th>\n",
              "      <td>4292154092</td>\n",
              "      <td>2</td>\n",
              "    </tr>\n",
              "    <tr>\n",
              "      <th>11010</th>\n",
              "      <td>4292520070</td>\n",
              "      <td>11</td>\n",
              "    </tr>\n",
              "    <tr>\n",
              "      <th>11011</th>\n",
              "      <td>4292939171</td>\n",
              "      <td>2</td>\n",
              "    </tr>\n",
              "    <tr>\n",
              "      <th>11012</th>\n",
              "      <td>4293276364</td>\n",
              "      <td>2</td>\n",
              "    </tr>\n",
              "    <tr>\n",
              "      <th>11013</th>\n",
              "      <td>4294197112</td>\n",
              "      <td>4</td>\n",
              "    </tr>\n",
              "  </tbody>\n",
              "</table>\n",
              "<p>11014 rows × 2 columns</p>\n",
              "</div>\n",
              "      <button class=\"colab-df-convert\" onclick=\"convertToInteractive('df-6a914a3b-c1a8-4a72-bfb9-5c8386fc1d7d')\"\n",
              "              title=\"Convert this dataframe to an interactive table.\"\n",
              "              style=\"display:none;\">\n",
              "        \n",
              "  <svg xmlns=\"http://www.w3.org/2000/svg\" height=\"24px\"viewBox=\"0 0 24 24\"\n",
              "       width=\"24px\">\n",
              "    <path d=\"M0 0h24v24H0V0z\" fill=\"none\"/>\n",
              "    <path d=\"M18.56 5.44l.94 2.06.94-2.06 2.06-.94-2.06-.94-.94-2.06-.94 2.06-2.06.94zm-11 1L8.5 8.5l.94-2.06 2.06-.94-2.06-.94L8.5 2.5l-.94 2.06-2.06.94zm10 10l.94 2.06.94-2.06 2.06-.94-2.06-.94-.94-2.06-.94 2.06-2.06.94z\"/><path d=\"M17.41 7.96l-1.37-1.37c-.4-.4-.92-.59-1.43-.59-.52 0-1.04.2-1.43.59L10.3 9.45l-7.72 7.72c-.78.78-.78 2.05 0 2.83L4 21.41c.39.39.9.59 1.41.59.51 0 1.02-.2 1.41-.59l7.78-7.78 2.81-2.81c.8-.78.8-2.07 0-2.86zM5.41 20L4 18.59l7.72-7.72 1.47 1.35L5.41 20z\"/>\n",
              "  </svg>\n",
              "      </button>\n",
              "      \n",
              "  <style>\n",
              "    .colab-df-container {\n",
              "      display:flex;\n",
              "      flex-wrap:wrap;\n",
              "      gap: 12px;\n",
              "    }\n",
              "\n",
              "    .colab-df-convert {\n",
              "      background-color: #E8F0FE;\n",
              "      border: none;\n",
              "      border-radius: 50%;\n",
              "      cursor: pointer;\n",
              "      display: none;\n",
              "      fill: #1967D2;\n",
              "      height: 32px;\n",
              "      padding: 0 0 0 0;\n",
              "      width: 32px;\n",
              "    }\n",
              "\n",
              "    .colab-df-convert:hover {\n",
              "      background-color: #E2EBFA;\n",
              "      box-shadow: 0px 1px 2px rgba(60, 64, 67, 0.3), 0px 1px 3px 1px rgba(60, 64, 67, 0.15);\n",
              "      fill: #174EA6;\n",
              "    }\n",
              "\n",
              "    [theme=dark] .colab-df-convert {\n",
              "      background-color: #3B4455;\n",
              "      fill: #D2E3FC;\n",
              "    }\n",
              "\n",
              "    [theme=dark] .colab-df-convert:hover {\n",
              "      background-color: #434B5C;\n",
              "      box-shadow: 0px 1px 3px 1px rgba(0, 0, 0, 0.15);\n",
              "      filter: drop-shadow(0px 1px 2px rgba(0, 0, 0, 0.3));\n",
              "      fill: #FFFFFF;\n",
              "    }\n",
              "  </style>\n",
              "\n",
              "      <script>\n",
              "        const buttonEl =\n",
              "          document.querySelector('#df-6a914a3b-c1a8-4a72-bfb9-5c8386fc1d7d button.colab-df-convert');\n",
              "        buttonEl.style.display =\n",
              "          google.colab.kernel.accessAllowed ? 'block' : 'none';\n",
              "\n",
              "        async function convertToInteractive(key) {\n",
              "          const element = document.querySelector('#df-6a914a3b-c1a8-4a72-bfb9-5c8386fc1d7d');\n",
              "          const dataTable =\n",
              "            await google.colab.kernel.invokeFunction('convertToInteractive',\n",
              "                                                     [key], {});\n",
              "          if (!dataTable) return;\n",
              "\n",
              "          const docLinkHtml = 'Like what you see? Visit the ' +\n",
              "            '<a target=\"_blank\" href=https://colab.research.google.com/notebooks/data_table.ipynb>data table notebook</a>'\n",
              "            + ' to learn more about interactive tables.';\n",
              "          element.innerHTML = '';\n",
              "          dataTable['output_type'] = 'display_data';\n",
              "          await google.colab.output.renderOutput(dataTable, element);\n",
              "          const docLink = document.createElement('div');\n",
              "          docLink.innerHTML = docLinkHtml;\n",
              "          element.appendChild(docLink);\n",
              "        }\n",
              "      </script>\n",
              "    </div>\n",
              "  </div>\n",
              "  "
            ]
          },
          "metadata": {},
          "execution_count": 18
        }
      ]
    },
    {
      "cell_type": "code",
      "source": [
        "sortlabel = label.sort_values('image_number')\n",
        "sortlabel"
      ],
      "metadata": {
        "colab": {
          "base_uri": "https://localhost:8080/",
          "height": 424
        },
        "id": "fgOM9RMYc-k0",
        "outputId": "4c3af7d8-fd0d-413d-ebc1-b6f0322e5843"
      },
      "execution_count": 19,
      "outputs": [
        {
          "output_type": "execute_result",
          "data": {
            "text/plain": [
              "      label_group  image_number\n",
              "3764   1471548468             2\n",
              "8718   3381177724             2\n",
              "4946   1934657835             2\n",
              "8720   3381497963             2\n",
              "4943   1932824351             2\n",
              "...           ...           ...\n",
              "2606    994676122            51\n",
              "8037   3113678103            51\n",
              "1445    562358068            51\n",
              "9370   3627744656            51\n",
              "412     159351600            51\n",
              "\n",
              "[11014 rows x 2 columns]"
            ],
            "text/html": [
              "\n",
              "  <div id=\"df-9ad82af5-e71d-4d2c-94f0-8e455066127d\">\n",
              "    <div class=\"colab-df-container\">\n",
              "      <div>\n",
              "<style scoped>\n",
              "    .dataframe tbody tr th:only-of-type {\n",
              "        vertical-align: middle;\n",
              "    }\n",
              "\n",
              "    .dataframe tbody tr th {\n",
              "        vertical-align: top;\n",
              "    }\n",
              "\n",
              "    .dataframe thead th {\n",
              "        text-align: right;\n",
              "    }\n",
              "</style>\n",
              "<table border=\"1\" class=\"dataframe\">\n",
              "  <thead>\n",
              "    <tr style=\"text-align: right;\">\n",
              "      <th></th>\n",
              "      <th>label_group</th>\n",
              "      <th>image_number</th>\n",
              "    </tr>\n",
              "  </thead>\n",
              "  <tbody>\n",
              "    <tr>\n",
              "      <th>3764</th>\n",
              "      <td>1471548468</td>\n",
              "      <td>2</td>\n",
              "    </tr>\n",
              "    <tr>\n",
              "      <th>8718</th>\n",
              "      <td>3381177724</td>\n",
              "      <td>2</td>\n",
              "    </tr>\n",
              "    <tr>\n",
              "      <th>4946</th>\n",
              "      <td>1934657835</td>\n",
              "      <td>2</td>\n",
              "    </tr>\n",
              "    <tr>\n",
              "      <th>8720</th>\n",
              "      <td>3381497963</td>\n",
              "      <td>2</td>\n",
              "    </tr>\n",
              "    <tr>\n",
              "      <th>4943</th>\n",
              "      <td>1932824351</td>\n",
              "      <td>2</td>\n",
              "    </tr>\n",
              "    <tr>\n",
              "      <th>...</th>\n",
              "      <td>...</td>\n",
              "      <td>...</td>\n",
              "    </tr>\n",
              "    <tr>\n",
              "      <th>2606</th>\n",
              "      <td>994676122</td>\n",
              "      <td>51</td>\n",
              "    </tr>\n",
              "    <tr>\n",
              "      <th>8037</th>\n",
              "      <td>3113678103</td>\n",
              "      <td>51</td>\n",
              "    </tr>\n",
              "    <tr>\n",
              "      <th>1445</th>\n",
              "      <td>562358068</td>\n",
              "      <td>51</td>\n",
              "    </tr>\n",
              "    <tr>\n",
              "      <th>9370</th>\n",
              "      <td>3627744656</td>\n",
              "      <td>51</td>\n",
              "    </tr>\n",
              "    <tr>\n",
              "      <th>412</th>\n",
              "      <td>159351600</td>\n",
              "      <td>51</td>\n",
              "    </tr>\n",
              "  </tbody>\n",
              "</table>\n",
              "<p>11014 rows × 2 columns</p>\n",
              "</div>\n",
              "      <button class=\"colab-df-convert\" onclick=\"convertToInteractive('df-9ad82af5-e71d-4d2c-94f0-8e455066127d')\"\n",
              "              title=\"Convert this dataframe to an interactive table.\"\n",
              "              style=\"display:none;\">\n",
              "        \n",
              "  <svg xmlns=\"http://www.w3.org/2000/svg\" height=\"24px\"viewBox=\"0 0 24 24\"\n",
              "       width=\"24px\">\n",
              "    <path d=\"M0 0h24v24H0V0z\" fill=\"none\"/>\n",
              "    <path d=\"M18.56 5.44l.94 2.06.94-2.06 2.06-.94-2.06-.94-.94-2.06-.94 2.06-2.06.94zm-11 1L8.5 8.5l.94-2.06 2.06-.94-2.06-.94L8.5 2.5l-.94 2.06-2.06.94zm10 10l.94 2.06.94-2.06 2.06-.94-2.06-.94-.94-2.06-.94 2.06-2.06.94z\"/><path d=\"M17.41 7.96l-1.37-1.37c-.4-.4-.92-.59-1.43-.59-.52 0-1.04.2-1.43.59L10.3 9.45l-7.72 7.72c-.78.78-.78 2.05 0 2.83L4 21.41c.39.39.9.59 1.41.59.51 0 1.02-.2 1.41-.59l7.78-7.78 2.81-2.81c.8-.78.8-2.07 0-2.86zM5.41 20L4 18.59l7.72-7.72 1.47 1.35L5.41 20z\"/>\n",
              "  </svg>\n",
              "      </button>\n",
              "      \n",
              "  <style>\n",
              "    .colab-df-container {\n",
              "      display:flex;\n",
              "      flex-wrap:wrap;\n",
              "      gap: 12px;\n",
              "    }\n",
              "\n",
              "    .colab-df-convert {\n",
              "      background-color: #E8F0FE;\n",
              "      border: none;\n",
              "      border-radius: 50%;\n",
              "      cursor: pointer;\n",
              "      display: none;\n",
              "      fill: #1967D2;\n",
              "      height: 32px;\n",
              "      padding: 0 0 0 0;\n",
              "      width: 32px;\n",
              "    }\n",
              "\n",
              "    .colab-df-convert:hover {\n",
              "      background-color: #E2EBFA;\n",
              "      box-shadow: 0px 1px 2px rgba(60, 64, 67, 0.3), 0px 1px 3px 1px rgba(60, 64, 67, 0.15);\n",
              "      fill: #174EA6;\n",
              "    }\n",
              "\n",
              "    [theme=dark] .colab-df-convert {\n",
              "      background-color: #3B4455;\n",
              "      fill: #D2E3FC;\n",
              "    }\n",
              "\n",
              "    [theme=dark] .colab-df-convert:hover {\n",
              "      background-color: #434B5C;\n",
              "      box-shadow: 0px 1px 3px 1px rgba(0, 0, 0, 0.15);\n",
              "      filter: drop-shadow(0px 1px 2px rgba(0, 0, 0, 0.3));\n",
              "      fill: #FFFFFF;\n",
              "    }\n",
              "  </style>\n",
              "\n",
              "      <script>\n",
              "        const buttonEl =\n",
              "          document.querySelector('#df-9ad82af5-e71d-4d2c-94f0-8e455066127d button.colab-df-convert');\n",
              "        buttonEl.style.display =\n",
              "          google.colab.kernel.accessAllowed ? 'block' : 'none';\n",
              "\n",
              "        async function convertToInteractive(key) {\n",
              "          const element = document.querySelector('#df-9ad82af5-e71d-4d2c-94f0-8e455066127d');\n",
              "          const dataTable =\n",
              "            await google.colab.kernel.invokeFunction('convertToInteractive',\n",
              "                                                     [key], {});\n",
              "          if (!dataTable) return;\n",
              "\n",
              "          const docLinkHtml = 'Like what you see? Visit the ' +\n",
              "            '<a target=\"_blank\" href=https://colab.research.google.com/notebooks/data_table.ipynb>data table notebook</a>'\n",
              "            + ' to learn more about interactive tables.';\n",
              "          element.innerHTML = '';\n",
              "          dataTable['output_type'] = 'display_data';\n",
              "          await google.colab.output.renderOutput(dataTable, element);\n",
              "          const docLink = document.createElement('div');\n",
              "          docLink.innerHTML = docLinkHtml;\n",
              "          element.appendChild(docLink);\n",
              "        }\n",
              "      </script>\n",
              "    </div>\n",
              "  </div>\n",
              "  "
            ]
          },
          "metadata": {},
          "execution_count": 19
        }
      ]
    },
    {
      "cell_type": "code",
      "source": [
        "# Make a temporary dataframe with the top 21 label group classes\n",
        "tmpdf = sortlabel.iloc[-21:]\n",
        "tmpdf"
      ],
      "metadata": {
        "colab": {
          "base_uri": "https://localhost:8080/",
          "height": 708
        },
        "id": "QeCy5CPMc-hp",
        "outputId": "260b59d2-6289-41df-cbac-bd8243d2e0f7"
      },
      "execution_count": 20,
      "outputs": [
        {
          "output_type": "execute_result",
          "data": {
            "text/plain": [
              "       label_group  image_number\n",
              "161       66247839            34\n",
              "2267     871679006            34\n",
              "4004    1575763518            34\n",
              "1884     731330024            35\n",
              "10753   4184214313            35\n",
              "1152     452508504            35\n",
              "5129    2008989859            35\n",
              "4472    1746655739            36\n",
              "3222    1237550763            37\n",
              "9011    3489985175            41\n",
              "2857    1091404026            45\n",
              "4438    1733221456            46\n",
              "3047    1166650192            46\n",
              "8297    3206118280            49\n",
              "2994    1141798720            51\n",
              "3041    1163569239            51\n",
              "2606     994676122            51\n",
              "8037    3113678103            51\n",
              "1445     562358068            51\n",
              "9370    3627744656            51\n",
              "412      159351600            51"
            ],
            "text/html": [
              "\n",
              "  <div id=\"df-a7fd92ed-1747-4310-9538-b411d6c17e24\">\n",
              "    <div class=\"colab-df-container\">\n",
              "      <div>\n",
              "<style scoped>\n",
              "    .dataframe tbody tr th:only-of-type {\n",
              "        vertical-align: middle;\n",
              "    }\n",
              "\n",
              "    .dataframe tbody tr th {\n",
              "        vertical-align: top;\n",
              "    }\n",
              "\n",
              "    .dataframe thead th {\n",
              "        text-align: right;\n",
              "    }\n",
              "</style>\n",
              "<table border=\"1\" class=\"dataframe\">\n",
              "  <thead>\n",
              "    <tr style=\"text-align: right;\">\n",
              "      <th></th>\n",
              "      <th>label_group</th>\n",
              "      <th>image_number</th>\n",
              "    </tr>\n",
              "  </thead>\n",
              "  <tbody>\n",
              "    <tr>\n",
              "      <th>161</th>\n",
              "      <td>66247839</td>\n",
              "      <td>34</td>\n",
              "    </tr>\n",
              "    <tr>\n",
              "      <th>2267</th>\n",
              "      <td>871679006</td>\n",
              "      <td>34</td>\n",
              "    </tr>\n",
              "    <tr>\n",
              "      <th>4004</th>\n",
              "      <td>1575763518</td>\n",
              "      <td>34</td>\n",
              "    </tr>\n",
              "    <tr>\n",
              "      <th>1884</th>\n",
              "      <td>731330024</td>\n",
              "      <td>35</td>\n",
              "    </tr>\n",
              "    <tr>\n",
              "      <th>10753</th>\n",
              "      <td>4184214313</td>\n",
              "      <td>35</td>\n",
              "    </tr>\n",
              "    <tr>\n",
              "      <th>1152</th>\n",
              "      <td>452508504</td>\n",
              "      <td>35</td>\n",
              "    </tr>\n",
              "    <tr>\n",
              "      <th>5129</th>\n",
              "      <td>2008989859</td>\n",
              "      <td>35</td>\n",
              "    </tr>\n",
              "    <tr>\n",
              "      <th>4472</th>\n",
              "      <td>1746655739</td>\n",
              "      <td>36</td>\n",
              "    </tr>\n",
              "    <tr>\n",
              "      <th>3222</th>\n",
              "      <td>1237550763</td>\n",
              "      <td>37</td>\n",
              "    </tr>\n",
              "    <tr>\n",
              "      <th>9011</th>\n",
              "      <td>3489985175</td>\n",
              "      <td>41</td>\n",
              "    </tr>\n",
              "    <tr>\n",
              "      <th>2857</th>\n",
              "      <td>1091404026</td>\n",
              "      <td>45</td>\n",
              "    </tr>\n",
              "    <tr>\n",
              "      <th>4438</th>\n",
              "      <td>1733221456</td>\n",
              "      <td>46</td>\n",
              "    </tr>\n",
              "    <tr>\n",
              "      <th>3047</th>\n",
              "      <td>1166650192</td>\n",
              "      <td>46</td>\n",
              "    </tr>\n",
              "    <tr>\n",
              "      <th>8297</th>\n",
              "      <td>3206118280</td>\n",
              "      <td>49</td>\n",
              "    </tr>\n",
              "    <tr>\n",
              "      <th>2994</th>\n",
              "      <td>1141798720</td>\n",
              "      <td>51</td>\n",
              "    </tr>\n",
              "    <tr>\n",
              "      <th>3041</th>\n",
              "      <td>1163569239</td>\n",
              "      <td>51</td>\n",
              "    </tr>\n",
              "    <tr>\n",
              "      <th>2606</th>\n",
              "      <td>994676122</td>\n",
              "      <td>51</td>\n",
              "    </tr>\n",
              "    <tr>\n",
              "      <th>8037</th>\n",
              "      <td>3113678103</td>\n",
              "      <td>51</td>\n",
              "    </tr>\n",
              "    <tr>\n",
              "      <th>1445</th>\n",
              "      <td>562358068</td>\n",
              "      <td>51</td>\n",
              "    </tr>\n",
              "    <tr>\n",
              "      <th>9370</th>\n",
              "      <td>3627744656</td>\n",
              "      <td>51</td>\n",
              "    </tr>\n",
              "    <tr>\n",
              "      <th>412</th>\n",
              "      <td>159351600</td>\n",
              "      <td>51</td>\n",
              "    </tr>\n",
              "  </tbody>\n",
              "</table>\n",
              "</div>\n",
              "      <button class=\"colab-df-convert\" onclick=\"convertToInteractive('df-a7fd92ed-1747-4310-9538-b411d6c17e24')\"\n",
              "              title=\"Convert this dataframe to an interactive table.\"\n",
              "              style=\"display:none;\">\n",
              "        \n",
              "  <svg xmlns=\"http://www.w3.org/2000/svg\" height=\"24px\"viewBox=\"0 0 24 24\"\n",
              "       width=\"24px\">\n",
              "    <path d=\"M0 0h24v24H0V0z\" fill=\"none\"/>\n",
              "    <path d=\"M18.56 5.44l.94 2.06.94-2.06 2.06-.94-2.06-.94-.94-2.06-.94 2.06-2.06.94zm-11 1L8.5 8.5l.94-2.06 2.06-.94-2.06-.94L8.5 2.5l-.94 2.06-2.06.94zm10 10l.94 2.06.94-2.06 2.06-.94-2.06-.94-.94-2.06-.94 2.06-2.06.94z\"/><path d=\"M17.41 7.96l-1.37-1.37c-.4-.4-.92-.59-1.43-.59-.52 0-1.04.2-1.43.59L10.3 9.45l-7.72 7.72c-.78.78-.78 2.05 0 2.83L4 21.41c.39.39.9.59 1.41.59.51 0 1.02-.2 1.41-.59l7.78-7.78 2.81-2.81c.8-.78.8-2.07 0-2.86zM5.41 20L4 18.59l7.72-7.72 1.47 1.35L5.41 20z\"/>\n",
              "  </svg>\n",
              "      </button>\n",
              "      \n",
              "  <style>\n",
              "    .colab-df-container {\n",
              "      display:flex;\n",
              "      flex-wrap:wrap;\n",
              "      gap: 12px;\n",
              "    }\n",
              "\n",
              "    .colab-df-convert {\n",
              "      background-color: #E8F0FE;\n",
              "      border: none;\n",
              "      border-radius: 50%;\n",
              "      cursor: pointer;\n",
              "      display: none;\n",
              "      fill: #1967D2;\n",
              "      height: 32px;\n",
              "      padding: 0 0 0 0;\n",
              "      width: 32px;\n",
              "    }\n",
              "\n",
              "    .colab-df-convert:hover {\n",
              "      background-color: #E2EBFA;\n",
              "      box-shadow: 0px 1px 2px rgba(60, 64, 67, 0.3), 0px 1px 3px 1px rgba(60, 64, 67, 0.15);\n",
              "      fill: #174EA6;\n",
              "    }\n",
              "\n",
              "    [theme=dark] .colab-df-convert {\n",
              "      background-color: #3B4455;\n",
              "      fill: #D2E3FC;\n",
              "    }\n",
              "\n",
              "    [theme=dark] .colab-df-convert:hover {\n",
              "      background-color: #434B5C;\n",
              "      box-shadow: 0px 1px 3px 1px rgba(0, 0, 0, 0.15);\n",
              "      filter: drop-shadow(0px 1px 2px rgba(0, 0, 0, 0.3));\n",
              "      fill: #FFFFFF;\n",
              "    }\n",
              "  </style>\n",
              "\n",
              "      <script>\n",
              "        const buttonEl =\n",
              "          document.querySelector('#df-a7fd92ed-1747-4310-9538-b411d6c17e24 button.colab-df-convert');\n",
              "        buttonEl.style.display =\n",
              "          google.colab.kernel.accessAllowed ? 'block' : 'none';\n",
              "\n",
              "        async function convertToInteractive(key) {\n",
              "          const element = document.querySelector('#df-a7fd92ed-1747-4310-9538-b411d6c17e24');\n",
              "          const dataTable =\n",
              "            await google.colab.kernel.invokeFunction('convertToInteractive',\n",
              "                                                     [key], {});\n",
              "          if (!dataTable) return;\n",
              "\n",
              "          const docLinkHtml = 'Like what you see? Visit the ' +\n",
              "            '<a target=\"_blank\" href=https://colab.research.google.com/notebooks/data_table.ipynb>data table notebook</a>'\n",
              "            + ' to learn more about interactive tables.';\n",
              "          element.innerHTML = '';\n",
              "          dataTable['output_type'] = 'display_data';\n",
              "          await google.colab.output.renderOutput(dataTable, element);\n",
              "          const docLink = document.createElement('div');\n",
              "          docLink.innerHTML = docLinkHtml;\n",
              "          element.appendChild(docLink);\n",
              "        }\n",
              "      </script>\n",
              "    </div>\n",
              "  </div>\n",
              "  "
            ]
          },
          "metadata": {},
          "execution_count": 20
        }
      ]
    },
    {
      "cell_type": "code",
      "source": [
        "# Sum of the images in these 21 label groups \n",
        "sum_label = tmpdf['image_number'].sum()\n",
        "print(sum_label)"
      ],
      "metadata": {
        "colab": {
          "base_uri": "https://localhost:8080/"
        },
        "id": "jdsmTD0siCle",
        "outputId": "2561bc0f-fe8f-4acc-989d-ab29245fe5fa"
      },
      "execution_count": 21,
      "outputs": [
        {
          "output_type": "stream",
          "name": "stdout",
          "text": [
            "899\n"
          ]
        }
      ]
    },
    {
      "cell_type": "code",
      "source": [
        "for col in tmpdf.columns:\n",
        "    print(col + \":\" + str(len(tmpdf[col].unique())))"
      ],
      "metadata": {
        "colab": {
          "base_uri": "https://localhost:8080/"
        },
        "id": "_pKprsNF9Ffz",
        "outputId": "02880006-55cb-406e-d9b9-8f271f425578"
      },
      "execution_count": 22,
      "outputs": [
        {
          "output_type": "stream",
          "name": "stdout",
          "text": [
            "label_group:21\n",
            "image_number:9\n"
          ]
        }
      ]
    },
    {
      "cell_type": "code",
      "source": [
        "# Create a reduced train df\n",
        "reduced_trainlist = tmpdf['label_group'].tolist()\n",
        "print(reduced_trainlist)"
      ],
      "metadata": {
        "colab": {
          "base_uri": "https://localhost:8080/"
        },
        "id": "PhEeYFjTc-fL",
        "outputId": "b66abe12-6d29-4f84-c67c-09b513ce6ae0"
      },
      "execution_count": 23,
      "outputs": [
        {
          "output_type": "stream",
          "name": "stdout",
          "text": [
            "[66247839, 871679006, 1575763518, 731330024, 4184214313, 452508504, 2008989859, 1746655739, 1237550763, 3489985175, 1091404026, 1733221456, 1166650192, 3206118280, 1141798720, 1163569239, 994676122, 3113678103, 562358068, 3627744656, 159351600]\n"
          ]
        }
      ]
    },
    {
      "cell_type": "code",
      "source": [
        "reduced_traindf = traindf[traindf['label_group'].isin(reduced_trainlist)]\n",
        "reduced_traindf"
      ],
      "metadata": {
        "colab": {
          "base_uri": "https://localhost:8080/",
          "height": 554
        },
        "id": "vxKmBKl_c-X8",
        "outputId": "818b3a75-a1eb-4444-aa0a-19b272fba17c"
      },
      "execution_count": 24,
      "outputs": [
        {
          "output_type": "execute_result",
          "data": {
            "text/plain": [
              "             posting_id                                 image  \\\n",
              "50     train_3497907844  007be583a5a4edc3fc54b0779e141a9f.jpg   \n",
              "63     train_1734882388  008a7e4f77c10f36ace0314cff98ba09.jpg   \n",
              "75     train_3043787667  00a798efae9db3d6d5324daebfea2652.jpg   \n",
              "85     train_4175229751  00b9f86046a30f68841671d510077cc6.jpg   \n",
              "96     train_3879247647  00cefe6ea00dafa4e441757802c72636.jpg   \n",
              "...                 ...                                   ...   \n",
              "34116   train_497353894  feee3c1c061171989379349c6bec550e.jpg   \n",
              "34130  train_1431505272  ff13824e97134b3fd52fdd0c5bfb3336.jpg   \n",
              "34167  train_3766853345  ff5e955ddd5d278f570bbd74dd0bc5e9.jpg   \n",
              "34183  train_2767483557  ff7bf54d9da67bada330825ef9bd25c7.jpg   \n",
              "34235  train_3668806308  ffdd054398884b04bdab9e41d30c7fb2.jpg   \n",
              "\n",
              "            image_phash                                              title  \\\n",
              "50     9ba6cc31a427a675  ARSHOP MAYCREATE MOISTURIZING UV SPRAY 150ML (...   \n",
              "63     da00a03e871f9f37                                   TZUKI SOAP 1 PCS   \n",
              "75     e9949669b54a199d                                        SABUN TZUKI   \n",
              "85     a9b6c30b36f03b49  \\xe2\\x9d\\xa4 RATU \\xe2\\x9d\\xa4 MAYCREATE MOIST...   \n",
              "96     fc8e8e9e87713061  (Bundling 2 Pcs) Acnol Lotion 10Ml Acne Lotion...   \n",
              "...                 ...                                                ...   \n",
              "34116  b947cf1d4c3c30e2  Kuas Mentega Oles Masak Minyak Roti Kue Barbeq...   \n",
              "34130  d6aec150632f2bb1  100 PCS Ikat Karet Rambut Elastis Gaya Korea -...   \n",
              "34167  eb915c62916e955c  RSB COD 1PCS Tutup Pentil LED Nyala Lampu Roda...   \n",
              "34183  929fc245682fb5b4  100 Pcs Ikat Rambut Karet Polos Elastis Gaya K...   \n",
              "34235  9ba6cc38a4a792f1  MAYCREATE MOISTURIZING SPRAY 150ML(1KG 6PCS)  ...   \n",
              "\n",
              "       label_group                                               path  \n",
              "50      1141798720  ./data/train_images/007be583a5a4edc3fc54b0779e...  \n",
              "63      3489985175  ./data/train_images/008a7e4f77c10f36ace0314cff...  \n",
              "75      3489985175  ./data/train_images/00a798efae9db3d6d5324daebf...  \n",
              "85      1141798720  ./data/train_images/00b9f86046a30f68841671d510...  \n",
              "96      1746655739  ./data/train_images/00cefe6ea00dafa4e441757802...  \n",
              "...            ...                                                ...  \n",
              "34116   1733221456  ./data/train_images/feee3c1c061171989379349c6b...  \n",
              "34130    994676122  ./data/train_images/ff13824e97134b3fd52fdd0c5b...  \n",
              "34167   1575763518  ./data/train_images/ff5e955ddd5d278f570bbd74dd...  \n",
              "34183    994676122  ./data/train_images/ff7bf54d9da67bada330825ef9...  \n",
              "34235   1141798720  ./data/train_images/ffdd054398884b04bdab9e41d3...  \n",
              "\n",
              "[899 rows x 6 columns]"
            ],
            "text/html": [
              "\n",
              "  <div id=\"df-fae065c4-06b6-43b9-8da2-cb8e87370ead\">\n",
              "    <div class=\"colab-df-container\">\n",
              "      <div>\n",
              "<style scoped>\n",
              "    .dataframe tbody tr th:only-of-type {\n",
              "        vertical-align: middle;\n",
              "    }\n",
              "\n",
              "    .dataframe tbody tr th {\n",
              "        vertical-align: top;\n",
              "    }\n",
              "\n",
              "    .dataframe thead th {\n",
              "        text-align: right;\n",
              "    }\n",
              "</style>\n",
              "<table border=\"1\" class=\"dataframe\">\n",
              "  <thead>\n",
              "    <tr style=\"text-align: right;\">\n",
              "      <th></th>\n",
              "      <th>posting_id</th>\n",
              "      <th>image</th>\n",
              "      <th>image_phash</th>\n",
              "      <th>title</th>\n",
              "      <th>label_group</th>\n",
              "      <th>path</th>\n",
              "    </tr>\n",
              "  </thead>\n",
              "  <tbody>\n",
              "    <tr>\n",
              "      <th>50</th>\n",
              "      <td>train_3497907844</td>\n",
              "      <td>007be583a5a4edc3fc54b0779e141a9f.jpg</td>\n",
              "      <td>9ba6cc31a427a675</td>\n",
              "      <td>ARSHOP MAYCREATE MOISTURIZING UV SPRAY 150ML (...</td>\n",
              "      <td>1141798720</td>\n",
              "      <td>./data/train_images/007be583a5a4edc3fc54b0779e...</td>\n",
              "    </tr>\n",
              "    <tr>\n",
              "      <th>63</th>\n",
              "      <td>train_1734882388</td>\n",
              "      <td>008a7e4f77c10f36ace0314cff98ba09.jpg</td>\n",
              "      <td>da00a03e871f9f37</td>\n",
              "      <td>TZUKI SOAP 1 PCS</td>\n",
              "      <td>3489985175</td>\n",
              "      <td>./data/train_images/008a7e4f77c10f36ace0314cff...</td>\n",
              "    </tr>\n",
              "    <tr>\n",
              "      <th>75</th>\n",
              "      <td>train_3043787667</td>\n",
              "      <td>00a798efae9db3d6d5324daebfea2652.jpg</td>\n",
              "      <td>e9949669b54a199d</td>\n",
              "      <td>SABUN TZUKI</td>\n",
              "      <td>3489985175</td>\n",
              "      <td>./data/train_images/00a798efae9db3d6d5324daebf...</td>\n",
              "    </tr>\n",
              "    <tr>\n",
              "      <th>85</th>\n",
              "      <td>train_4175229751</td>\n",
              "      <td>00b9f86046a30f68841671d510077cc6.jpg</td>\n",
              "      <td>a9b6c30b36f03b49</td>\n",
              "      <td>\\xe2\\x9d\\xa4 RATU \\xe2\\x9d\\xa4 MAYCREATE MOIST...</td>\n",
              "      <td>1141798720</td>\n",
              "      <td>./data/train_images/00b9f86046a30f68841671d510...</td>\n",
              "    </tr>\n",
              "    <tr>\n",
              "      <th>96</th>\n",
              "      <td>train_3879247647</td>\n",
              "      <td>00cefe6ea00dafa4e441757802c72636.jpg</td>\n",
              "      <td>fc8e8e9e87713061</td>\n",
              "      <td>(Bundling 2 Pcs) Acnol Lotion 10Ml Acne Lotion...</td>\n",
              "      <td>1746655739</td>\n",
              "      <td>./data/train_images/00cefe6ea00dafa4e441757802...</td>\n",
              "    </tr>\n",
              "    <tr>\n",
              "      <th>...</th>\n",
              "      <td>...</td>\n",
              "      <td>...</td>\n",
              "      <td>...</td>\n",
              "      <td>...</td>\n",
              "      <td>...</td>\n",
              "      <td>...</td>\n",
              "    </tr>\n",
              "    <tr>\n",
              "      <th>34116</th>\n",
              "      <td>train_497353894</td>\n",
              "      <td>feee3c1c061171989379349c6bec550e.jpg</td>\n",
              "      <td>b947cf1d4c3c30e2</td>\n",
              "      <td>Kuas Mentega Oles Masak Minyak Roti Kue Barbeq...</td>\n",
              "      <td>1733221456</td>\n",
              "      <td>./data/train_images/feee3c1c061171989379349c6b...</td>\n",
              "    </tr>\n",
              "    <tr>\n",
              "      <th>34130</th>\n",
              "      <td>train_1431505272</td>\n",
              "      <td>ff13824e97134b3fd52fdd0c5bfb3336.jpg</td>\n",
              "      <td>d6aec150632f2bb1</td>\n",
              "      <td>100 PCS Ikat Karet Rambut Elastis Gaya Korea -...</td>\n",
              "      <td>994676122</td>\n",
              "      <td>./data/train_images/ff13824e97134b3fd52fdd0c5b...</td>\n",
              "    </tr>\n",
              "    <tr>\n",
              "      <th>34167</th>\n",
              "      <td>train_3766853345</td>\n",
              "      <td>ff5e955ddd5d278f570bbd74dd0bc5e9.jpg</td>\n",
              "      <td>eb915c62916e955c</td>\n",
              "      <td>RSB COD 1PCS Tutup Pentil LED Nyala Lampu Roda...</td>\n",
              "      <td>1575763518</td>\n",
              "      <td>./data/train_images/ff5e955ddd5d278f570bbd74dd...</td>\n",
              "    </tr>\n",
              "    <tr>\n",
              "      <th>34183</th>\n",
              "      <td>train_2767483557</td>\n",
              "      <td>ff7bf54d9da67bada330825ef9bd25c7.jpg</td>\n",
              "      <td>929fc245682fb5b4</td>\n",
              "      <td>100 Pcs Ikat Rambut Karet Polos Elastis Gaya K...</td>\n",
              "      <td>994676122</td>\n",
              "      <td>./data/train_images/ff7bf54d9da67bada330825ef9...</td>\n",
              "    </tr>\n",
              "    <tr>\n",
              "      <th>34235</th>\n",
              "      <td>train_3668806308</td>\n",
              "      <td>ffdd054398884b04bdab9e41d30c7fb2.jpg</td>\n",
              "      <td>9ba6cc38a4a792f1</td>\n",
              "      <td>MAYCREATE MOISTURIZING SPRAY 150ML(1KG 6PCS)  ...</td>\n",
              "      <td>1141798720</td>\n",
              "      <td>./data/train_images/ffdd054398884b04bdab9e41d3...</td>\n",
              "    </tr>\n",
              "  </tbody>\n",
              "</table>\n",
              "<p>899 rows × 6 columns</p>\n",
              "</div>\n",
              "      <button class=\"colab-df-convert\" onclick=\"convertToInteractive('df-fae065c4-06b6-43b9-8da2-cb8e87370ead')\"\n",
              "              title=\"Convert this dataframe to an interactive table.\"\n",
              "              style=\"display:none;\">\n",
              "        \n",
              "  <svg xmlns=\"http://www.w3.org/2000/svg\" height=\"24px\"viewBox=\"0 0 24 24\"\n",
              "       width=\"24px\">\n",
              "    <path d=\"M0 0h24v24H0V0z\" fill=\"none\"/>\n",
              "    <path d=\"M18.56 5.44l.94 2.06.94-2.06 2.06-.94-2.06-.94-.94-2.06-.94 2.06-2.06.94zm-11 1L8.5 8.5l.94-2.06 2.06-.94-2.06-.94L8.5 2.5l-.94 2.06-2.06.94zm10 10l.94 2.06.94-2.06 2.06-.94-2.06-.94-.94-2.06-.94 2.06-2.06.94z\"/><path d=\"M17.41 7.96l-1.37-1.37c-.4-.4-.92-.59-1.43-.59-.52 0-1.04.2-1.43.59L10.3 9.45l-7.72 7.72c-.78.78-.78 2.05 0 2.83L4 21.41c.39.39.9.59 1.41.59.51 0 1.02-.2 1.41-.59l7.78-7.78 2.81-2.81c.8-.78.8-2.07 0-2.86zM5.41 20L4 18.59l7.72-7.72 1.47 1.35L5.41 20z\"/>\n",
              "  </svg>\n",
              "      </button>\n",
              "      \n",
              "  <style>\n",
              "    .colab-df-container {\n",
              "      display:flex;\n",
              "      flex-wrap:wrap;\n",
              "      gap: 12px;\n",
              "    }\n",
              "\n",
              "    .colab-df-convert {\n",
              "      background-color: #E8F0FE;\n",
              "      border: none;\n",
              "      border-radius: 50%;\n",
              "      cursor: pointer;\n",
              "      display: none;\n",
              "      fill: #1967D2;\n",
              "      height: 32px;\n",
              "      padding: 0 0 0 0;\n",
              "      width: 32px;\n",
              "    }\n",
              "\n",
              "    .colab-df-convert:hover {\n",
              "      background-color: #E2EBFA;\n",
              "      box-shadow: 0px 1px 2px rgba(60, 64, 67, 0.3), 0px 1px 3px 1px rgba(60, 64, 67, 0.15);\n",
              "      fill: #174EA6;\n",
              "    }\n",
              "\n",
              "    [theme=dark] .colab-df-convert {\n",
              "      background-color: #3B4455;\n",
              "      fill: #D2E3FC;\n",
              "    }\n",
              "\n",
              "    [theme=dark] .colab-df-convert:hover {\n",
              "      background-color: #434B5C;\n",
              "      box-shadow: 0px 1px 3px 1px rgba(0, 0, 0, 0.15);\n",
              "      filter: drop-shadow(0px 1px 2px rgba(0, 0, 0, 0.3));\n",
              "      fill: #FFFFFF;\n",
              "    }\n",
              "  </style>\n",
              "\n",
              "      <script>\n",
              "        const buttonEl =\n",
              "          document.querySelector('#df-fae065c4-06b6-43b9-8da2-cb8e87370ead button.colab-df-convert');\n",
              "        buttonEl.style.display =\n",
              "          google.colab.kernel.accessAllowed ? 'block' : 'none';\n",
              "\n",
              "        async function convertToInteractive(key) {\n",
              "          const element = document.querySelector('#df-fae065c4-06b6-43b9-8da2-cb8e87370ead');\n",
              "          const dataTable =\n",
              "            await google.colab.kernel.invokeFunction('convertToInteractive',\n",
              "                                                     [key], {});\n",
              "          if (!dataTable) return;\n",
              "\n",
              "          const docLinkHtml = 'Like what you see? Visit the ' +\n",
              "            '<a target=\"_blank\" href=https://colab.research.google.com/notebooks/data_table.ipynb>data table notebook</a>'\n",
              "            + ' to learn more about interactive tables.';\n",
              "          element.innerHTML = '';\n",
              "          dataTable['output_type'] = 'display_data';\n",
              "          await google.colab.output.renderOutput(dataTable, element);\n",
              "          const docLink = document.createElement('div');\n",
              "          docLink.innerHTML = docLinkHtml;\n",
              "          element.appendChild(docLink);\n",
              "        }\n",
              "      </script>\n",
              "    </div>\n",
              "  </div>\n",
              "  "
            ]
          },
          "metadata": {},
          "execution_count": 24
        }
      ]
    },
    {
      "cell_type": "code",
      "source": [
        "# # Make a new folder of images from reduced train df\n",
        "# import shutil\n",
        "\n",
        "# input_path= '/content/drive/MyDrive/Colab Notebooks/Shopee_Capstone_Project/image_data/train'\n",
        "# output_path='/content/drive/MyDrive/Colab Notebooks/Shopee_Capstone_Project/image_data/reduced_train'\n",
        "\n",
        "# i = 1 # intilize counter\n",
        "# for row in reduced_traindf.iterrows():\n",
        "#   z = row[1]['image'] # 0 gets index, [1] has the information (image name) ->\n",
        "#   input_file = os.path.join(input_path, z)\n",
        "#   output_file = os.path.join(output_path, z)\n",
        "\n",
        "#   if os.path.exists(output_file) == False:\n",
        "#     print(i, ' file not copied:', z) # Printing images not copied into new folder\n",
        "\n",
        "#     shutil.copy2(input_file, output_file)\n",
        "#     i+=1 # increment counter\n"
      ],
      "metadata": {
        "id": "T2gBDiHMhBrP"
      },
      "execution_count": 25,
      "outputs": []
    },
    {
      "cell_type": "code",
      "source": [
        "reduced_train_data_dir = os.path.join(Dir, 'reduced_train/*')\n",
        "print(reduced_train_data_dir)\n",
        "reduced_train_img_paths = list(glob(reduced_train_data_dir))\n",
        "\n",
        "count_reduced_train = len(reduced_train_img_paths)\n",
        "print(count_reduced_train)"
      ],
      "metadata": {
        "colab": {
          "base_uri": "https://localhost:8080/"
        },
        "id": "RKqCQmP2hBj0",
        "outputId": "8232604c-8500-4709-a384-8c5678fe577e"
      },
      "execution_count": 26,
      "outputs": [
        {
          "output_type": "stream",
          "name": "stdout",
          "text": [
            "/content/drive/MyDrive/Colab Notebooks/Shopee_Capstone_Project/image_data/reduced_train/*\n",
            "827\n"
          ]
        }
      ]
    },
    {
      "cell_type": "code",
      "source": [
        "# Number of copied photos is not equal to number of data frame rows. \n",
        "# Checking if duplicated images are not being copied, do not need to use keep because duplicated # of duplicates is max 2 per an image\n",
        "tmpdf = reduced_traindf['image']\n",
        "print(tmpdf.duplicated().sum())"
      ],
      "metadata": {
        "colab": {
          "base_uri": "https://localhost:8080/"
        },
        "id": "A02vXXh7j34u",
        "outputId": "5ee7d81b-ae0b-46cf-9a7c-764e3df5b6c7"
      },
      "execution_count": 27,
      "outputs": [
        {
          "output_type": "stream",
          "name": "stdout",
          "text": [
            "72\n"
          ]
        }
      ]
    },
    {
      "cell_type": "code",
      "source": [
        "# # Verfy identical images have the same label group\n",
        "\n",
        "# tmpdf = reduced_traindf[['image','label_group']]\n",
        "\n",
        "# tmpdf = tmpdf.assign(is_duplicate= lambda d: d.duplicated())\n",
        "# tmpdf2= tmpdf[tmpdf['is_duplicate']]\n",
        "# tmpdf2\n",
        "\n",
        "# sort_tmpdf2 = tmpdf2.sort_values('image')\n",
        "# sort_tmpdf2"
      ],
      "metadata": {
        "id": "-LUC7RuUqTh1"
      },
      "execution_count": 29,
      "outputs": []
    },
    {
      "cell_type": "markdown",
      "source": [],
      "metadata": {
        "id": "XxLnHSXUTvjU"
      }
    },
    {
      "cell_type": "code",
      "source": [
        "# # Mapping label_group to an index, and mapping an index to a label_group\n",
        "# index_to_label_group = {}\n",
        "# label_group_to_index = {}\n",
        "\n",
        "# i = 0\n",
        "\n",
        "# for row in label.iterrows():\n",
        "#     # print(row[1]['label_group'])  # Test to see desired rows information is beting called\n",
        "#     # print(type(row[1]['label_group']))\n",
        "#     val = row[1]['label_group']\n",
        "#     if val in label_group_to_index.keys():\n",
        "#       continue \n",
        "\n",
        "#     index_to_label_group[i] = val\n",
        "#     label_group_to_index[val] = i\n",
        "#     i+=1\n",
        "\n",
        "# # Quality check Print Statments\n",
        "# print(index_to_label_group[0])\n",
        "# print(label_group_to_index[258047])\n",
        "# print(len(index_to_label_group))\n",
        "# print(len(label_group_to_index))"
      ],
      "metadata": {
        "id": "kMuoZLe1ba_a",
        "colab": {
          "base_uri": "https://localhost:8080/"
        },
        "outputId": "53bf0f14-a901-43bc-83c1-4a6d0f8c3560"
      },
      "execution_count": 30,
      "outputs": [
        {
          "output_type": "stream",
          "name": "stdout",
          "text": [
            "258047\n",
            "0\n",
            "11014\n",
            "11014\n"
          ]
        }
      ]
    },
    {
      "cell_type": "code",
      "source": [
        "### Mapping like above, but for the reduced data set \n",
        "# Mapping label_group to an index, and mapping an index to a label_group\n",
        "index_to_label_group_reduce = {}\n",
        "label_group_to_index_reduce = {}\n",
        "\n",
        "i = 0\n",
        "\n",
        "for row in reduced_traindf.iterrows():\n",
        "#     print(row[1]['label_group'])  # Test to see desired rows information is beting called\n",
        "#     print(type(row[1]['label_group']))\n",
        "    val = row[1]['label_group']\n",
        "    if val in label_group_to_index_reduce.keys():\n",
        "      continue\n",
        "\n",
        "    index_to_label_group_reduce[i] = val\n",
        "    label_group_to_index_reduce[val] = i\n",
        "    i+=1\n",
        "\n",
        "# Quality check\n",
        "print(index_to_label_group_reduce[0])\n",
        "print(label_group_to_index_reduce[1141798720])\n",
        "print(len(index_to_label_group_reduce))\n",
        "print(len(label_group_to_index_reduce))"
      ],
      "metadata": {
        "colab": {
          "base_uri": "https://localhost:8080/"
        },
        "id": "OLo6M-MlnjyD",
        "outputId": "1a5ea90d-4de3-4483-bdf5-4f8b9b1a7c1f"
      },
      "execution_count": 31,
      "outputs": [
        {
          "output_type": "stream",
          "name": "stdout",
          "text": [
            "1141798720\n",
            "0\n",
            "21\n",
            "21\n"
          ]
        }
      ]
    },
    {
      "cell_type": "markdown",
      "source": [
        "## Function to dataload the images and labels for PyTorch"
      ],
      "metadata": {
        "id": "VwN4PwVSpx16"
      }
    },
    {
      "cell_type": "code",
      "source": [
        "# # Set a random augumation transform \n",
        "# import random\n",
        "# from torchvision import transforms\n",
        "# from torchvision.transforms import Compose as C\n",
        "\n",
        "# def aug(p = 0.5):\n",
        "#   r = random.randint(0,2)\n",
        "#   if r == 0:\n",
        "#     return transforms.RandomHorizontalFlip(p=p)\n",
        "#   elif r == 1:\n",
        "#     return transforms.RandomVerticalFlip(p=p)\n",
        "#   else:\n",
        "#     return transforms.RandomGrayscale(p=p)"
      ],
      "metadata": {
        "id": "TBxa4Y9kWFur"
      },
      "execution_count": 32,
      "outputs": []
    },
    {
      "cell_type": "code",
      "source": [
        "# Intilizing Pytorch Dataset class to feed into DataLoader\n",
        "device_cpu = torch.device(\"cpu\")\n",
        "device_gpu = torch.device(\"cuda\")\n",
        "device = torch.device(\"cuda\" if torch.cuda.is_available() else \"cpu\")\n",
        "\n",
        "class dataset(Dataset): \n",
        "    def __init__(self, img_paths, labels): # initialize self, the image paths, and transform\n",
        "        self.p = 0.3\n",
        "        self.img_paths = img_paths # list of image paths\n",
        "        self.label_df = labels # A dataframe of either train or test which contain the labels under label_group\n",
        "        self.transform = transforms.Compose([transforms.Resize((256,256)), transforms.ToTensor()]) # transforming into a tensor\n",
        "        #, transforms.RandomVerticalFlip(p=self.p), transforms.RandomHorizontalFlip(p=self.p), transforms.RandomGrayscale(p=self.p)\n",
        "        self.device = device\n",
        "    \n",
        "    # Calling the whole dataset, in this case imgs\n",
        "    def __len__(self):\n",
        "        return len(self.img_paths)\n",
        "    \n",
        "    # Loading in the input images and getting their labels\n",
        "    def __getitem__(self, index):      ## Index into image paths to get image path and do the pre processing of \n",
        "                                       ## loading the image into get_item\n",
        "        path = self.img_paths[index]\n",
        "        \n",
        "\n",
        "        path_token = path.split('/') # set delimenter to '/'\n",
        "        img_name = path_token[-1] # take last token with image name\n",
        "        potential_label_group = traindf.loc[traindf['image'] == img_name, 'label_group'].values\n",
        "  \n",
        "        y = self.label_df.loc[self.label_df['image'] == img_name, 'label_group'].values # Find label grouping with image name == image name \n",
        "\n",
        "        if len(y) > 0: # If there is at least one entry with matching image name then get label grouping for the image \n",
        "          y = y[0] \n",
        "        else: \n",
        "          path = self.img_paths[0] # If no label grouping for image then send first image \n",
        "          path_token = path.split('/') \n",
        "          img_name = path_token[-1] \n",
        "          y = self.label_df.loc[self.label_df['image'] == img_name, 'label_group'].values[0]\n",
        "\n",
        "        img = cv2.imread(path) # Calling image from image list (after passing the if statement)\n",
        "        img = cv2.cvtColor(img, cv2.COLOR_BGR2RGB) # making sure all images are in RGB\n",
        "        img_pil = Image.fromarray(img) # Transform numpy image (from cv2) into PIL image class for train Epoch stage\n",
        "        \n",
        "        # aug_transform = aug() # call function aug from above \n",
        "        # print('img pil type: ', img_pil.type)\n",
        "        # aug_img = aug_transform(img_pil) # pass in the image to transform with probability 0.5 -> NECESSSARY AUGMENTING IMAGES\n",
        "\n",
        "        x = self.transform(img_pil) # Transform image\n",
        "        x = x.to(self.device, dtype=torch.float) # Send image to device\n",
        "\n",
        "\n",
        "        # y = label_group_to_index[y]  # Getting the associated index with the label group y (y is a given label group)\n",
        "        y = label_group_to_index_reduce[y] #######  Changed map for reduced photo test  ######\n",
        "\n",
        "        y = torch.as_tensor(np.array(y), dtype = torch.int64)\n",
        "        y = y.to(self.device) # Send y to device\n",
        "        \n",
        "        return x, y\n",
        "    "
      ],
      "metadata": {
        "id": "-xNJ7t0nltY0"
      },
      "execution_count": 33,
      "outputs": []
    },
    {
      "cell_type": "markdown",
      "source": [
        "## Split Images to Train, Test, and Validation "
      ],
      "metadata": {
        "id": "TvnwfiHMqHse"
      }
    },
    {
      "cell_type": "code",
      "source": [
        "    # # This function splits the list of samples from the dataset into train, validation, & test \n",
        "    #     # to benchmark the model before the test_image folder\n",
        "    # def collate_fn(batch):\n",
        "    # # combines individual data point tuples (x,y) into single giant tuple\n",
        "    #     return tuple(zip(*batch))\n",
        "\n",
        "    # # Split into training, validation, and test from the traing images list\n",
        "    # print(\"train img len: \", len(train_img_paths))\n",
        "    # data = dataset(train_img_paths, traindf)\n",
        "    # num_images = len(train_img_paths)\n",
        "    # train_size = int(np.ceil(0.8 * num_images))\n",
        "    # val_size = int(np.ceil(0.1 * num_images))\n",
        "    # test_size = int(np.floor(0.1 * num_images))\n",
        "    \n",
        "    # print(\"Total data size:\", num_images)\n",
        "    # print(\"Training set size:\", train_size)\n",
        "    # print(\"Validation set size:\", val_size)\n",
        "    # print(\"Test set seize:\", test_size)\n",
        "    \n",
        "    # # Randomize the split\n",
        "    # train_data, val_data, test_data = torch.utils.data.random_split(data, (train_size, val_size, test_size))"
      ],
      "metadata": {
        "id": "GZkP5h9VSK4C"
      },
      "execution_count": 34,
      "outputs": []
    },
    {
      "cell_type": "code",
      "source": [
        "  # Split the data set for the reduced df \n",
        "\n",
        "  # This function splits the list of samples from the dataset into train, validation, & test \n",
        "  # to benchmark the model before the test_image folder\n",
        "  def collate_fn(batch):\n",
        "  # combines individual data point tuples (x,y) into single giant tuple\n",
        "    return tuple(zip(*batch))\n",
        "\n",
        "  # Split into training, validation, and test from the traing images list\n",
        "  print(\"reduced train img len: \", len(reduced_train_img_paths))\n",
        "  data = dataset(reduced_train_img_paths, reduced_traindf)\n",
        "  num_images = len(reduced_train_img_paths) \n",
        "  train_size = int(np.ceil(0.8 * num_images))\n",
        "  val_size = int(np.ceil(0.1 * num_images))\n",
        "  test_size = int(np.floor(0.1 * num_images))\n",
        "  \n",
        "  print(\"Total data size:\", num_images)\n",
        "  print(\"Training set size:\", train_size)\n",
        "  print(\"Validation set size:\", val_size)\n",
        "  print(\"Test set seize:\", test_size)\n",
        "  \n",
        "  # Randomize the split\n",
        "  train_data, val_data, test_data = torch.utils.data.random_split(data, (train_size, val_size, test_size))"
      ],
      "metadata": {
        "colab": {
          "base_uri": "https://localhost:8080/"
        },
        "id": "asT0EFK9oUil",
        "outputId": "efd12aeb-accc-44ef-f580-2378a626cca9"
      },
      "execution_count": 35,
      "outputs": [
        {
          "output_type": "stream",
          "name": "stdout",
          "text": [
            "reduced train img len:  827\n",
            "Total data size: 827\n",
            "Training set size: 662\n",
            "Validation set size: 83\n",
            "Test set seize: 82\n"
          ]
        }
      ]
    },
    {
      "cell_type": "markdown",
      "source": [
        "### Set Batchsize and Intiate DataLoader"
      ],
      "metadata": {
        "id": "c1ij13zOqPdv"
      }
    },
    {
      "cell_type": "code",
      "source": [
        "# set batch size \n",
        "batch_size = 75\n",
        "#num_workers = 2"
      ],
      "metadata": {
        "id": "V5R4x9DISK16"
      },
      "execution_count": 36,
      "outputs": []
    },
    {
      "cell_type": "code",
      "source": [
        "# Dataload Training Dataset \n",
        "train_dataloader = torch.utils.data.DataLoader(train_data, batch_size = batch_size, shuffle = True, )"
      ],
      "metadata": {
        "id": "FfEpeTxwSKzO"
      },
      "execution_count": 37,
      "outputs": []
    },
    {
      "cell_type": "code",
      "source": [
        "val_dataloader = torch.utils.data.DataLoader(val_data, batch_size = batch_size, shuffle = True, )"
      ],
      "metadata": {
        "id": "7j1BFtSTYSOd"
      },
      "execution_count": 38,
      "outputs": []
    },
    {
      "cell_type": "code",
      "source": [
        "# Dataload Test Dataset from the train_img_paths\n",
        "test_dataloader = torch.utils.data.DataLoader(test_data, batch_size = batch_size, shuffle = False, )"
      ],
      "metadata": {
        "id": "wpnWSlSISKuV"
      },
      "execution_count": 39,
      "outputs": []
    },
    {
      "cell_type": "markdown",
      "source": [
        "## Models"
      ],
      "metadata": {
        "id": "80yHiz7ZqWzz"
      }
    },
    {
      "cell_type": "code",
      "source": [
        "#   # Use personally created Neural Network based on the CNN model \n",
        "#   # nn.Sequential sets the sequals of modeal models from pytorch to use in our neural network \n",
        "#       # from torchsummary import summary\n",
        "# # device = torch.device('cuda') if torch.cuda.is_available() else torch.device('cpu')\n",
        "# # device_cpu = torch.device('cpu')\n",
        " \n",
        "# model = nn.Sequential(\n",
        "#             #input=(3,256,256), output=(6, 256,256)\n",
        "#             nn.Conv2d(in_channels=3, out_channels=6, kernel_size=3), # 3 input for RGB, and 6 output b/c doubling is standard\n",
        "#             nn.ReLU(),\n",
        "#             #input=(6,256,256), output=(6, 128,128)\n",
        "#             nn.MaxPool2d(kernel_size=2), # Max pool kenral size=2 means cut max pixel value by half\n",
        "            \n",
        "#             #input=(6,128,128), output=(12,128,128)\n",
        "#             nn.Conv2d(in_channels=6, out_channels=12, kernel_size=3),\n",
        "#             nn.ReLU(),\n",
        "#             #input=(12,128,128), output=(12,64,64)\n",
        "#             nn.MaxPool2d(kernel_size=2),\n",
        "\n",
        "#             #input=(12, 64, 64), output=(24, 64, 64)\n",
        "#             nn.Conv2d(in_channels=12, out_channels=24, kernel_size=3),\n",
        "#             nn.ReLU(),\n",
        "#             #input=(24, 64, 64), output=(24, 32, 32)\n",
        "#             nn.MaxPool2d(kernel_size=2),\n",
        "\n",
        "\n",
        "#             nn.Flatten(start_dim=1),\n",
        "#             nn.Linear(24*30*30, 512), # 512 is arbiturary number for reduced traning, oringal train had all classes of 11014 and ended after the following ReLU() \n",
        "#             nn.ReLU(),\n",
        "#             nn.Linear(512, 21),\n",
        "#             nn.ReLU(),\n",
        "#             # nn.Softmax(dim=0)\n",
        "#             )\n",
        "# #print(device_cpu.type)\n",
        "\n",
        "# model.to(device) ### REMEMBER TO CHANGE TO device FOR GPU ###\n",
        "\n",
        "# #summary(model, (3, 255,255) , device=device.type)         "
      ],
      "metadata": {
        "id": "B4JQsx4EWVTg",
        "colab": {
          "base_uri": "https://localhost:8080/"
        },
        "outputId": "555d27f9-f02b-4820-8993-6c6bf4a6de20"
      },
      "execution_count": 40,
      "outputs": [
        {
          "output_type": "execute_result",
          "data": {
            "text/plain": [
              "Sequential(\n",
              "  (0): Conv2d(3, 6, kernel_size=(3, 3), stride=(1, 1))\n",
              "  (1): ReLU()\n",
              "  (2): MaxPool2d(kernel_size=2, stride=2, padding=0, dilation=1, ceil_mode=False)\n",
              "  (3): Conv2d(6, 12, kernel_size=(3, 3), stride=(1, 1))\n",
              "  (4): ReLU()\n",
              "  (5): MaxPool2d(kernel_size=2, stride=2, padding=0, dilation=1, ceil_mode=False)\n",
              "  (6): Conv2d(12, 24, kernel_size=(3, 3), stride=(1, 1))\n",
              "  (7): ReLU()\n",
              "  (8): MaxPool2d(kernel_size=2, stride=2, padding=0, dilation=1, ceil_mode=False)\n",
              "  (9): Flatten(start_dim=1, end_dim=-1)\n",
              "  (10): Linear(in_features=21600, out_features=512, bias=True)\n",
              "  (11): ReLU()\n",
              "  (12): Linear(in_features=512, out_features=21, bias=True)\n",
              "  (13): ReLU()\n",
              ")"
            ]
          },
          "metadata": {},
          "execution_count": 40
        }
      ]
    },
    {
      "cell_type": "code",
      "source": [
        "# Use model arcitecture EfficentNetB0, w/o pre-trained weights (Loading an EfficientNet)\n",
        "import torchvision.models as models \n",
        "from torchvision.models import efficientnet_b0, EfficientNet_B0_Weights\n",
        "from torchvision.models import efficientnet_b0 \n",
        "from torchvision import transforms\n",
        "\n",
        "# model = models.efficientnet_b0().to(device)\n",
        "\n",
        "# params = [p for p in model.parameters() if p.requires_grad]"
      ],
      "metadata": {
        "id": "MuMKdXEJMCmR"
      },
      "execution_count": 52,
      "outputs": []
    },
    {
      "cell_type": "code",
      "source": [
        "  #  pip install efficientnet_pytorch"
      ],
      "metadata": {
        "colab": {
          "base_uri": "https://localhost:8080/"
        },
        "id": "hkqvk1S9vWHr",
        "outputId": "a628420f-c558-4fd4-8218-e8bec288f823"
      },
      "execution_count": 59,
      "outputs": [
        {
          "output_type": "stream",
          "name": "stdout",
          "text": [
            "Looking in indexes: https://pypi.org/simple, https://us-python.pkg.dev/colab-wheels/public/simple/\n",
            "Collecting efficientnet_pytorch\n",
            "  Downloading efficientnet_pytorch-0.7.1.tar.gz (21 kB)\n",
            "Requirement already satisfied: torch in /usr/local/lib/python3.7/dist-packages (from efficientnet_pytorch) (1.12.1+cu113)\n",
            "Requirement already satisfied: typing-extensions in /usr/local/lib/python3.7/dist-packages (from torch->efficientnet_pytorch) (4.1.1)\n",
            "Building wheels for collected packages: efficientnet-pytorch\n",
            "  Building wheel for efficientnet-pytorch (setup.py) ... \u001b[?25l\u001b[?25hdone\n",
            "  Created wheel for efficientnet-pytorch: filename=efficientnet_pytorch-0.7.1-py3-none-any.whl size=16446 sha256=b27800d6092204c9602eb66cce4cefef8f95f9589c468191e05d385374265756\n",
            "  Stored in directory: /root/.cache/pip/wheels/0e/cc/b2/49e74588263573ff778da58cc99b9c6349b496636a7e165be6\n",
            "Successfully built efficientnet-pytorch\n",
            "Installing collected packages: efficientnet-pytorch\n",
            "Successfully installed efficientnet-pytorch-0.7.1\n"
          ]
        }
      ]
    },
    {
      "cell_type": "code",
      "source": [
        "# Use a pretrained model of EfficentNetB0 (Loading a pretrained Eccicientnet)\n",
        "from efficientnet_pytorch import EfficientNet\n",
        "\n",
        "device_gpu = torch.device(\"cuda\")\n",
        "\n",
        "model = EfficientNet.from_pretrained('efficientnet-b0')\n",
        "model = model.to(device)"
      ],
      "metadata": {
        "colab": {
          "base_uri": "https://localhost:8080/",
          "height": 105,
          "referenced_widgets": [
            "bf253387b0584e9abbec9823dc3de2f3",
            "d9a69bb5151442c98bf56ade5b75dd2e",
            "278d8f91c83744249108bb21c46acaa5",
            "935f2bcd17f1449eb5ac3bfc82803366",
            "14f4fadbe9db42c695d41177f60b391c",
            "0064c24f2855401e89f238a46cb9d8e5",
            "3276de78c3034d5c96d3f44a52a45967",
            "0dea23f46c9d4e43bccb83413b3a002e",
            "97a4ab93f9754abf94bb230caa985fbf",
            "e87eafb94a614e66bccf7a56008e85b2",
            "2b581c72fa0644e4833b8682f8adb2aa"
          ]
        },
        "id": "6O7NwB5BF12J",
        "outputId": "3957bb00-bea3-4304-cee9-f894cc496615"
      },
      "execution_count": 60,
      "outputs": [
        {
          "output_type": "stream",
          "name": "stderr",
          "text": [
            "Downloading: \"https://github.com/lukemelas/EfficientNet-PyTorch/releases/download/1.0/efficientnet-b0-355c32eb.pth\" to /root/.cache/torch/hub/checkpoints/efficientnet-b0-355c32eb.pth\n"
          ]
        },
        {
          "output_type": "display_data",
          "data": {
            "text/plain": [
              "  0%|          | 0.00/20.4M [00:00<?, ?B/s]"
            ],
            "application/vnd.jupyter.widget-view+json": {
              "version_major": 2,
              "version_minor": 0,
              "model_id": "bf253387b0584e9abbec9823dc3de2f3"
            }
          },
          "metadata": {}
        },
        {
          "output_type": "stream",
          "name": "stdout",
          "text": [
            "Loaded pretrained weights for efficientnet-b0\n"
          ]
        }
      ]
    },
    {
      "cell_type": "code",
      "source": [
        "# Transfer Learning, blockings some layers from the model"
      ],
      "metadata": {
        "id": "6iVQtrS1I6s1"
      },
      "execution_count": 61,
      "outputs": []
    },
    {
      "cell_type": "code",
      "source": [
        "# loss function , Cross Entropy Loss combines log softmax and negative log likelihood \n",
        "criterion = nn.CrossEntropyLoss()"
      ],
      "metadata": {
        "id": "MWqcl-njWVNH"
      },
      "execution_count": 62,
      "outputs": []
    },
    {
      "cell_type": "code",
      "source": [
        "# optimizer\n",
        "optimizer = optim.SGD(model.parameters(), lr=0.001, momentum=0.9, weight_decay=0.0001)"
      ],
      "metadata": {
        "id": "00pcvxppWVKp"
      },
      "execution_count": 63,
      "outputs": []
    },
    {
      "cell_type": "markdown",
      "source": [
        "Function to train model predictions"
      ],
      "metadata": {
        "id": "LN_TYP9Jqk2H"
      }
    },
    {
      "cell_type": "code",
      "source": [
        "from tqdm import tqdm\n",
        "import time \n",
        "\n",
        "def train_model(model, train_dataloader, val_dataloader, num_epochs=5):\n",
        "\n",
        "    saved_epoch_train_loss = []\n",
        "    saved_train_acc = []\n",
        "    saved_val_acc = []\n",
        "\n",
        "    for epoch in tqdm(range(num_epochs)):  # loop over the dataset multiple times\n",
        "        epoch_loss = 0 \n",
        "        running_train_corrects = 0 \n",
        "        running_val_corrects = 0 \n",
        "        i = 0 #intiate counter\n",
        "        for x, y in train_dataloader:\n",
        "            # print('x: ', x.shape)\n",
        "            # print('x: ', x, ' y: ', y)\n",
        "            optimizer.zero_grad()\n",
        "            \n",
        "            out = model(x)\n",
        "            # print('out_shape: ', out.shape)\n",
        "            # print('out:', out)\n",
        "            # print('y: ', y.shape)\n",
        "            # print('y:', y)\n",
        "            \n",
        "            _, preds = torch.max(out, 1)\n",
        "            # print('predictions:', preds)\n",
        "            loss = criterion(out, y)\n",
        "            loss.backward()\n",
        "            optimizer.step()\n",
        "            running_train_corrects += torch.sum(torch.eq(preds, y))\n",
        "            \n",
        "            epoch_loss += loss \n",
        "\n",
        "            if  i == 5000: #State counter for every 1,000 processes ( i % 5000)\n",
        "              break #print(i) - for debugging \n",
        "            i += 1\n",
        "        saved_epoch_train_loss.append(epoch_loss)\n",
        "        print(\"\\nEpoch:\", epoch+1, \"Loss: {:.5f}\".format(epoch_loss)) \n",
        "\n",
        "        with torch.no_grad():\n",
        "          for x, y in val_dataloader:\n",
        "            out = model(x)\n",
        "            _, preds = torch.max(out,1)\n",
        "            loss = criterion(out,y)\n",
        "            running_val_corrects += torch.sum(torch.eq(preds,y))\n",
        "        \n",
        "        train_acc = running_train_corrects.double() / len(train_dataloader.dataset)\n",
        "        saved_train_acc.append(train_acc)\n",
        "        print(\"Training accuracy: {:4f}\".format(train_acc))\n",
        "        \n",
        "        val_acc = running_val_corrects.double() / len(val_dataloader.dataset)\n",
        "        saved_val_acc.append(val_acc)\n",
        "        print(\"Validation accuracy: {:4f}\".format(val_acc))\n",
        "      \n",
        "    return saved_epoch_train_loss, saved_train_acc, saved_val_acc\n"
      ],
      "metadata": {
        "id": "bOFxSmUPWejA"
      },
      "execution_count": 64,
      "outputs": []
    },
    {
      "cell_type": "code",
      "source": [
        "# Call my model and train model on dataloader\n",
        "# test model on validation data \n",
        "\n",
        "saved_epoch_train_loss, saved_train_acc, saved_val_acc = train_model(model, train_dataloader, val_dataloader, num_epochs=50)"
      ],
      "metadata": {
        "colab": {
          "base_uri": "https://localhost:8080/"
        },
        "id": "StTsdpQXMXY6",
        "outputId": "c2504abe-48fe-4ca7-8f24-064724fcf8c6"
      },
      "execution_count": 65,
      "outputs": [
        {
          "output_type": "stream",
          "name": "stderr",
          "text": [
            "\r  0%|          | 0/50 [00:00<?, ?it/s]"
          ]
        },
        {
          "output_type": "stream",
          "name": "stdout",
          "text": [
            "\n",
            "Epoch: 1 Loss: 67.63678\n"
          ]
        },
        {
          "output_type": "stream",
          "name": "stderr",
          "text": [
            "\r  2%|▏         | 1/50 [00:23<18:55, 23.18s/it]"
          ]
        },
        {
          "output_type": "stream",
          "name": "stdout",
          "text": [
            "Training accuracy: 0.001511\n",
            "Validation accuracy: 0.000000\n",
            "\n",
            "Epoch: 2 Loss: 63.77884\n"
          ]
        },
        {
          "output_type": "stream",
          "name": "stderr",
          "text": [
            "\r  4%|▍         | 2/50 [00:41<16:02, 20.05s/it]"
          ]
        },
        {
          "output_type": "stream",
          "name": "stdout",
          "text": [
            "Training accuracy: 0.003021\n",
            "Validation accuracy: 0.000000\n",
            "\n",
            "Epoch: 3 Loss: 58.79409\n"
          ]
        },
        {
          "output_type": "stream",
          "name": "stderr",
          "text": [
            "\r  6%|▌         | 3/50 [00:58<14:51, 18.98s/it]"
          ]
        },
        {
          "output_type": "stream",
          "name": "stdout",
          "text": [
            "Training accuracy: 0.018127\n",
            "Validation accuracy: 0.036145\n",
            "\n",
            "Epoch: 4 Loss: 52.67197\n"
          ]
        },
        {
          "output_type": "stream",
          "name": "stderr",
          "text": [
            "\r  8%|▊         | 4/50 [01:16<14:17, 18.64s/it]"
          ]
        },
        {
          "output_type": "stream",
          "name": "stdout",
          "text": [
            "Training accuracy: 0.075529\n",
            "Validation accuracy: 0.096386\n",
            "\n",
            "Epoch: 5 Loss: 47.17646\n"
          ]
        },
        {
          "output_type": "stream",
          "name": "stderr",
          "text": [
            "\r 10%|█         | 5/50 [01:34<13:45, 18.34s/it]"
          ]
        },
        {
          "output_type": "stream",
          "name": "stdout",
          "text": [
            "Training accuracy: 0.149547\n",
            "Validation accuracy: 0.156627\n",
            "\n",
            "Epoch: 6 Loss: 41.37204\n"
          ]
        },
        {
          "output_type": "stream",
          "name": "stderr",
          "text": [
            "\r 12%|█▏        | 6/50 [01:53<13:30, 18.43s/it]"
          ]
        },
        {
          "output_type": "stream",
          "name": "stdout",
          "text": [
            "Training accuracy: 0.267372\n",
            "Validation accuracy: 0.228916\n",
            "\n",
            "Epoch: 7 Loss: 36.20730\n"
          ]
        },
        {
          "output_type": "stream",
          "name": "stderr",
          "text": [
            "\r 14%|█▍        | 7/50 [02:11<13:03, 18.22s/it]"
          ]
        },
        {
          "output_type": "stream",
          "name": "stdout",
          "text": [
            "Training accuracy: 0.356495\n",
            "Validation accuracy: 0.253012\n",
            "\n",
            "Epoch: 8 Loss: 31.26820\n"
          ]
        },
        {
          "output_type": "stream",
          "name": "stderr",
          "text": [
            "\r 16%|█▌        | 8/50 [02:28<12:38, 18.07s/it]"
          ]
        },
        {
          "output_type": "stream",
          "name": "stdout",
          "text": [
            "Training accuracy: 0.448640\n",
            "Validation accuracy: 0.337349\n",
            "\n",
            "Epoch: 9 Loss: 27.59721\n"
          ]
        },
        {
          "output_type": "stream",
          "name": "stderr",
          "text": [
            "\r 18%|█▊        | 9/50 [02:46<12:16, 17.97s/it]"
          ]
        },
        {
          "output_type": "stream",
          "name": "stdout",
          "text": [
            "Training accuracy: 0.537764\n",
            "Validation accuracy: 0.433735\n",
            "\n",
            "Epoch: 10 Loss: 23.72412\n"
          ]
        },
        {
          "output_type": "stream",
          "name": "stderr",
          "text": [
            "\r 20%|██        | 10/50 [03:04<11:56, 17.91s/it]"
          ]
        },
        {
          "output_type": "stream",
          "name": "stdout",
          "text": [
            "Training accuracy: 0.616314\n",
            "Validation accuracy: 0.457831\n",
            "\n",
            "Epoch: 11 Loss: 20.33077\n"
          ]
        },
        {
          "output_type": "stream",
          "name": "stderr",
          "text": [
            "\r 22%|██▏       | 11/50 [03:22<11:37, 17.88s/it]"
          ]
        },
        {
          "output_type": "stream",
          "name": "stdout",
          "text": [
            "Training accuracy: 0.696375\n",
            "Validation accuracy: 0.554217\n",
            "\n",
            "Epoch: 12 Loss: 17.21364\n"
          ]
        },
        {
          "output_type": "stream",
          "name": "stderr",
          "text": [
            "\r 24%|██▍       | 12/50 [03:39<11:18, 17.87s/it]"
          ]
        },
        {
          "output_type": "stream",
          "name": "stdout",
          "text": [
            "Training accuracy: 0.752266\n",
            "Validation accuracy: 0.626506\n",
            "\n",
            "Epoch: 13 Loss: 14.45314\n"
          ]
        },
        {
          "output_type": "stream",
          "name": "stderr",
          "text": [
            "\r 26%|██▌       | 13/50 [03:57<11:01, 17.88s/it]"
          ]
        },
        {
          "output_type": "stream",
          "name": "stdout",
          "text": [
            "Training accuracy: 0.815710\n",
            "Validation accuracy: 0.638554\n",
            "\n",
            "Epoch: 14 Loss: 12.28496\n"
          ]
        },
        {
          "output_type": "stream",
          "name": "stderr",
          "text": [
            "\r 28%|██▊       | 14/50 [04:15<10:45, 17.92s/it]"
          ]
        },
        {
          "output_type": "stream",
          "name": "stdout",
          "text": [
            "Training accuracy: 0.835347\n",
            "Validation accuracy: 0.746988\n",
            "\n",
            "Epoch: 15 Loss: 10.33114\n"
          ]
        },
        {
          "output_type": "stream",
          "name": "stderr",
          "text": [
            "\r 30%|███       | 15/50 [04:33<10:28, 17.95s/it]"
          ]
        },
        {
          "output_type": "stream",
          "name": "stdout",
          "text": [
            "Training accuracy: 0.876133\n",
            "Validation accuracy: 0.710843\n",
            "\n",
            "Epoch: 16 Loss: 8.58240\n"
          ]
        },
        {
          "output_type": "stream",
          "name": "stderr",
          "text": [
            "\r 32%|███▏      | 16/50 [04:51<10:11, 17.98s/it]"
          ]
        },
        {
          "output_type": "stream",
          "name": "stdout",
          "text": [
            "Training accuracy: 0.906344\n",
            "Validation accuracy: 0.771084\n",
            "\n",
            "Epoch: 17 Loss: 7.71403\n"
          ]
        },
        {
          "output_type": "stream",
          "name": "stderr",
          "text": [
            "\r 34%|███▍      | 17/50 [05:09<09:52, 17.94s/it]"
          ]
        },
        {
          "output_type": "stream",
          "name": "stdout",
          "text": [
            "Training accuracy: 0.916918\n",
            "Validation accuracy: 0.807229\n",
            "\n",
            "Epoch: 18 Loss: 6.29735\n"
          ]
        },
        {
          "output_type": "stream",
          "name": "stderr",
          "text": [
            "\r 36%|███▌      | 18/50 [05:27<09:33, 17.91s/it]"
          ]
        },
        {
          "output_type": "stream",
          "name": "stdout",
          "text": [
            "Training accuracy: 0.939577\n",
            "Validation accuracy: 0.843373\n",
            "\n",
            "Epoch: 19 Loss: 5.18290\n"
          ]
        },
        {
          "output_type": "stream",
          "name": "stderr",
          "text": [
            "\r 38%|███▊      | 19/50 [05:45<09:14, 17.89s/it]"
          ]
        },
        {
          "output_type": "stream",
          "name": "stdout",
          "text": [
            "Training accuracy: 0.954683\n",
            "Validation accuracy: 0.867470\n",
            "\n",
            "Epoch: 20 Loss: 4.42596\n"
          ]
        },
        {
          "output_type": "stream",
          "name": "stderr",
          "text": [
            "\r 40%|████      | 20/50 [06:03<08:56, 17.88s/it]"
          ]
        },
        {
          "output_type": "stream",
          "name": "stdout",
          "text": [
            "Training accuracy: 0.962236\n",
            "Validation accuracy: 0.879518\n",
            "\n",
            "Epoch: 21 Loss: 3.79645\n"
          ]
        },
        {
          "output_type": "stream",
          "name": "stderr",
          "text": [
            "\r 42%|████▏     | 21/50 [06:21<08:37, 17.85s/it]"
          ]
        },
        {
          "output_type": "stream",
          "name": "stdout",
          "text": [
            "Training accuracy: 0.971299\n",
            "Validation accuracy: 0.855422\n",
            "\n",
            "Epoch: 22 Loss: 3.40972\n"
          ]
        },
        {
          "output_type": "stream",
          "name": "stderr",
          "text": [
            "\r 44%|████▍     | 22/50 [06:38<08:19, 17.85s/it]"
          ]
        },
        {
          "output_type": "stream",
          "name": "stdout",
          "text": [
            "Training accuracy: 0.971299\n",
            "Validation accuracy: 0.807229\n",
            "\n",
            "Epoch: 23 Loss: 2.95568\n"
          ]
        },
        {
          "output_type": "stream",
          "name": "stderr",
          "text": [
            "\r 46%|████▌     | 23/50 [06:57<08:03, 17.91s/it]"
          ]
        },
        {
          "output_type": "stream",
          "name": "stdout",
          "text": [
            "Training accuracy: 0.975831\n",
            "Validation accuracy: 0.879518\n",
            "\n",
            "Epoch: 24 Loss: 2.70137\n"
          ]
        },
        {
          "output_type": "stream",
          "name": "stderr",
          "text": [
            "\r 48%|████▊     | 24/50 [07:14<07:45, 17.90s/it]"
          ]
        },
        {
          "output_type": "stream",
          "name": "stdout",
          "text": [
            "Training accuracy: 0.980363\n",
            "Validation accuracy: 0.879518\n",
            "\n",
            "Epoch: 25 Loss: 2.61387\n"
          ]
        },
        {
          "output_type": "stream",
          "name": "stderr",
          "text": [
            "\r 50%|█████     | 25/50 [07:32<07:26, 17.87s/it]"
          ]
        },
        {
          "output_type": "stream",
          "name": "stdout",
          "text": [
            "Training accuracy: 0.980363\n",
            "Validation accuracy: 0.831325\n",
            "\n",
            "Epoch: 26 Loss: 2.23358\n"
          ]
        },
        {
          "output_type": "stream",
          "name": "stderr",
          "text": [
            "\r 52%|█████▏    | 26/50 [07:50<07:08, 17.85s/it]"
          ]
        },
        {
          "output_type": "stream",
          "name": "stdout",
          "text": [
            "Training accuracy: 0.980363\n",
            "Validation accuracy: 0.831325\n",
            "\n",
            "Epoch: 27 Loss: 1.86997\n"
          ]
        },
        {
          "output_type": "stream",
          "name": "stderr",
          "text": [
            "\r 54%|█████▍    | 27/50 [08:08<06:50, 17.85s/it]"
          ]
        },
        {
          "output_type": "stream",
          "name": "stdout",
          "text": [
            "Training accuracy: 0.987915\n",
            "Validation accuracy: 0.855422\n",
            "\n",
            "Epoch: 28 Loss: 1.73363\n"
          ]
        },
        {
          "output_type": "stream",
          "name": "stderr",
          "text": [
            "\r 56%|█████▌    | 28/50 [08:26<06:32, 17.84s/it]"
          ]
        },
        {
          "output_type": "stream",
          "name": "stdout",
          "text": [
            "Training accuracy: 0.984894\n",
            "Validation accuracy: 0.915663\n",
            "\n",
            "Epoch: 29 Loss: 1.69792\n"
          ]
        },
        {
          "output_type": "stream",
          "name": "stderr",
          "text": [
            "\r 58%|█████▊    | 29/50 [08:44<06:15, 17.87s/it]"
          ]
        },
        {
          "output_type": "stream",
          "name": "stdout",
          "text": [
            "Training accuracy: 0.986405\n",
            "Validation accuracy: 0.903614\n",
            "\n",
            "Epoch: 30 Loss: 1.58383\n"
          ]
        },
        {
          "output_type": "stream",
          "name": "stderr",
          "text": [
            "\r 60%|██████    | 30/50 [09:01<05:56, 17.84s/it]"
          ]
        },
        {
          "output_type": "stream",
          "name": "stdout",
          "text": [
            "Training accuracy: 0.990937\n",
            "Validation accuracy: 0.915663\n",
            "\n",
            "Epoch: 31 Loss: 1.46483\n"
          ]
        },
        {
          "output_type": "stream",
          "name": "stderr",
          "text": [
            "\r 62%|██████▏   | 31/50 [09:19<05:38, 17.82s/it]"
          ]
        },
        {
          "output_type": "stream",
          "name": "stdout",
          "text": [
            "Training accuracy: 0.989426\n",
            "Validation accuracy: 0.879518\n",
            "\n",
            "Epoch: 32 Loss: 1.28641\n"
          ]
        },
        {
          "output_type": "stream",
          "name": "stderr",
          "text": [
            "\r 64%|██████▍   | 32/50 [09:37<05:20, 17.82s/it]"
          ]
        },
        {
          "output_type": "stream",
          "name": "stdout",
          "text": [
            "Training accuracy: 0.986405\n",
            "Validation accuracy: 0.891566\n",
            "\n",
            "Epoch: 33 Loss: 1.26890\n"
          ]
        },
        {
          "output_type": "stream",
          "name": "stderr",
          "text": [
            "\r 66%|██████▌   | 33/50 [09:55<05:02, 17.79s/it]"
          ]
        },
        {
          "output_type": "stream",
          "name": "stdout",
          "text": [
            "Training accuracy: 0.989426\n",
            "Validation accuracy: 0.891566\n",
            "\n",
            "Epoch: 34 Loss: 1.18021\n"
          ]
        },
        {
          "output_type": "stream",
          "name": "stderr",
          "text": [
            "\r 68%|██████▊   | 34/50 [10:12<04:44, 17.76s/it]"
          ]
        },
        {
          "output_type": "stream",
          "name": "stdout",
          "text": [
            "Training accuracy: 0.990937\n",
            "Validation accuracy: 0.891566\n",
            "\n",
            "Epoch: 35 Loss: 1.15546\n"
          ]
        },
        {
          "output_type": "stream",
          "name": "stderr",
          "text": [
            "\r 70%|███████   | 35/50 [10:30<04:26, 17.75s/it]"
          ]
        },
        {
          "output_type": "stream",
          "name": "stdout",
          "text": [
            "Training accuracy: 0.993958\n",
            "Validation accuracy: 0.891566\n",
            "\n",
            "Epoch: 36 Loss: 1.06565\n"
          ]
        },
        {
          "output_type": "stream",
          "name": "stderr",
          "text": [
            "\r 72%|███████▏  | 36/50 [10:48<04:08, 17.76s/it]"
          ]
        },
        {
          "output_type": "stream",
          "name": "stdout",
          "text": [
            "Training accuracy: 0.989426\n",
            "Validation accuracy: 0.903614\n",
            "\n",
            "Epoch: 37 Loss: 0.98149\n"
          ]
        },
        {
          "output_type": "stream",
          "name": "stderr",
          "text": [
            "\r 74%|███████▍  | 37/50 [11:06<03:51, 17.79s/it]"
          ]
        },
        {
          "output_type": "stream",
          "name": "stdout",
          "text": [
            "Training accuracy: 0.992447\n",
            "Validation accuracy: 0.927711\n",
            "\n",
            "Epoch: 38 Loss: 0.94583\n"
          ]
        },
        {
          "output_type": "stream",
          "name": "stderr",
          "text": [
            "\r 76%|███████▌  | 38/50 [11:23<03:33, 17.76s/it]"
          ]
        },
        {
          "output_type": "stream",
          "name": "stdout",
          "text": [
            "Training accuracy: 0.992447\n",
            "Validation accuracy: 0.867470\n",
            "\n",
            "Epoch: 39 Loss: 0.82240\n"
          ]
        },
        {
          "output_type": "stream",
          "name": "stderr",
          "text": [
            "\r 78%|███████▊  | 39/50 [11:41<03:15, 17.77s/it]"
          ]
        },
        {
          "output_type": "stream",
          "name": "stdout",
          "text": [
            "Training accuracy: 0.990937\n",
            "Validation accuracy: 0.891566\n",
            "\n",
            "Epoch: 40 Loss: 0.78562\n"
          ]
        },
        {
          "output_type": "stream",
          "name": "stderr",
          "text": [
            "\r 80%|████████  | 40/50 [11:59<02:57, 17.78s/it]"
          ]
        },
        {
          "output_type": "stream",
          "name": "stdout",
          "text": [
            "Training accuracy: 0.993958\n",
            "Validation accuracy: 0.879518\n",
            "\n",
            "Epoch: 41 Loss: 0.62592\n"
          ]
        },
        {
          "output_type": "stream",
          "name": "stderr",
          "text": [
            "\r 82%|████████▏ | 41/50 [12:17<02:40, 17.81s/it]"
          ]
        },
        {
          "output_type": "stream",
          "name": "stdout",
          "text": [
            "Training accuracy: 0.995468\n",
            "Validation accuracy: 0.879518\n",
            "\n",
            "Epoch: 42 Loss: 0.79838\n"
          ]
        },
        {
          "output_type": "stream",
          "name": "stderr",
          "text": [
            "\r 84%|████████▍ | 42/50 [12:35<02:22, 17.78s/it]"
          ]
        },
        {
          "output_type": "stream",
          "name": "stdout",
          "text": [
            "Training accuracy: 0.995468\n",
            "Validation accuracy: 0.903614\n",
            "\n",
            "Epoch: 43 Loss: 0.64185\n"
          ]
        },
        {
          "output_type": "stream",
          "name": "stderr",
          "text": [
            "\r 86%|████████▌ | 43/50 [12:52<02:04, 17.76s/it]"
          ]
        },
        {
          "output_type": "stream",
          "name": "stdout",
          "text": [
            "Training accuracy: 0.993958\n",
            "Validation accuracy: 0.903614\n",
            "\n",
            "Epoch: 44 Loss: 0.60423\n"
          ]
        },
        {
          "output_type": "stream",
          "name": "stderr",
          "text": [
            "\r 88%|████████▊ | 44/50 [13:10<01:46, 17.78s/it]"
          ]
        },
        {
          "output_type": "stream",
          "name": "stdout",
          "text": [
            "Training accuracy: 0.996979\n",
            "Validation accuracy: 0.867470\n",
            "\n",
            "Epoch: 45 Loss: 0.59382\n"
          ]
        },
        {
          "output_type": "stream",
          "name": "stderr",
          "text": [
            "\r 90%|█████████ | 45/50 [13:28<01:28, 17.79s/it]"
          ]
        },
        {
          "output_type": "stream",
          "name": "stdout",
          "text": [
            "Training accuracy: 0.995468\n",
            "Validation accuracy: 0.903614\n",
            "\n",
            "Epoch: 46 Loss: 0.67575\n"
          ]
        },
        {
          "output_type": "stream",
          "name": "stderr",
          "text": [
            "\r 92%|█████████▏| 46/50 [13:46<01:11, 17.79s/it]"
          ]
        },
        {
          "output_type": "stream",
          "name": "stdout",
          "text": [
            "Training accuracy: 0.996979\n",
            "Validation accuracy: 0.915663\n",
            "\n",
            "Epoch: 47 Loss: 0.43168\n"
          ]
        },
        {
          "output_type": "stream",
          "name": "stderr",
          "text": [
            "\r 94%|█████████▍| 47/50 [14:04<00:53, 17.77s/it]"
          ]
        },
        {
          "output_type": "stream",
          "name": "stdout",
          "text": [
            "Training accuracy: 0.996979\n",
            "Validation accuracy: 0.927711\n",
            "\n",
            "Epoch: 48 Loss: 0.56527\n"
          ]
        },
        {
          "output_type": "stream",
          "name": "stderr",
          "text": [
            "\r 96%|█████████▌| 48/50 [14:21<00:35, 17.80s/it]"
          ]
        },
        {
          "output_type": "stream",
          "name": "stdout",
          "text": [
            "Training accuracy: 0.996979\n",
            "Validation accuracy: 0.879518\n",
            "\n",
            "Epoch: 49 Loss: 0.42348\n"
          ]
        },
        {
          "output_type": "stream",
          "name": "stderr",
          "text": [
            "\r 98%|█████████▊| 49/50 [14:39<00:17, 17.80s/it]"
          ]
        },
        {
          "output_type": "stream",
          "name": "stdout",
          "text": [
            "Training accuracy: 0.998489\n",
            "Validation accuracy: 0.915663\n",
            "\n",
            "Epoch: 50 Loss: 0.43667\n"
          ]
        },
        {
          "output_type": "stream",
          "name": "stderr",
          "text": [
            "100%|██████████| 50/50 [14:57<00:00, 17.95s/it]"
          ]
        },
        {
          "output_type": "stream",
          "name": "stdout",
          "text": [
            "Training accuracy: 0.998489\n",
            "Validation accuracy: 0.915663\n"
          ]
        },
        {
          "output_type": "stream",
          "name": "stderr",
          "text": [
            "\n"
          ]
        }
      ]
    },
    {
      "cell_type": "markdown",
      "source": [
        "### Plotting Training Loss and Accuracy "
      ],
      "metadata": {
        "id": "XnGuNSljqrY2"
      }
    },
    {
      "cell_type": "code",
      "source": [
        "# Convert the tensors into numpys to plot \n",
        "\n",
        "for i in range(len(saved_epoch_train_loss)):\n",
        "   saved_epoch_train_loss[i] = saved_epoch_train_loss[i].cpu()\n",
        "\n",
        "for i in range(len(saved_train_acc)):\n",
        "   saved_train_acc[i] = saved_train_acc[i].cpu()\n",
        "\n",
        "for i in range(len(saved_epoch_train_loss)):\n",
        "   saved_val_acc[i] = saved_val_acc[i].cpu()\n",
        "\n",
        "for i in range(len(saved_epoch_train_loss)):\n",
        "   saved_epoch_train_loss[i] = saved_epoch_train_loss[i].detach().numpy()\n",
        "\n",
        "for i in range(len(saved_train_acc)):\n",
        "   saved_train_acc[i] = saved_train_acc[i].detach().numpy()\n",
        "\n",
        "for i in range(len(saved_epoch_train_loss)):\n",
        "   saved_val_acc[i] = saved_val_acc[i].detach().numpy()\n",
        "\n",
        "# Visualize model loss\n",
        "fig = plt.figure(figsize = (20,10))\n",
        "plt.subplot(221)\n",
        "plt.plot(saved_epoch_train_loss, \"-o\")\n",
        "plt.title('CNN Model Training Loss')\n",
        "plt.xlabel(\"Epoch\")\n",
        "plt.ylabel(\"Accuracy\")\n",
        "\n",
        "# Visualize Training and Validation loss\n",
        "plt.subplot(222)\n",
        "plt.plot(saved_train_acc, \"-o\")\n",
        "plt.plot(saved_val_acc, \"-o\")\n",
        "plt.title(\"CNN Model Accuracy\")\n",
        "plt.xlabel(\"Epoch\")\n",
        "plt.ylabel(\"Accuracy\")\n",
        "plt.legend(['train','val'], loc=\"upper left\")\n",
        "\n",
        "plt.show()"
      ],
      "metadata": {
        "id": "b77wGZCkSAEj",
        "colab": {
          "base_uri": "https://localhost:8080/",
          "height": 325
        },
        "outputId": "ad24b0db-c825-4945-8e4c-80d87b3af5c3"
      },
      "execution_count": 66,
      "outputs": [
        {
          "output_type": "display_data",
          "data": {
            "text/plain": [
              "<Figure size 1440x720 with 2 Axes>"
            ],
            "image/png": "[encoded data removed]"
          },
          "metadata": {
            "needs_background": "light"
          }
        }
      ]
    },
    {
      "cell_type": "markdown",
      "source": [
        "### Final Testing Accuracy "
      ],
      "metadata": {
        "id": "eqaiI20Bqv6-"
      }
    },
    {
      "cell_type": "code",
      "source": [
        "def test_model(model, test_dataloader):\n",
        "  model.eval()\n",
        "\n",
        "  with torch.no_grad():\n",
        "    running_corrects = 0\n",
        "    for x, y in test_dataloader:\n",
        "      out = model(x)\n",
        "      _, preds = torch.max(out,1)\n",
        "      # print(torch.eq(preds,y))\n",
        "      running_corrects += torch.sum(torch.eq(preds,y))\n",
        "\n",
        "      #print(len(test_data))\n",
        "      acc = running_corrects.double() / len(test_data)\n",
        "      return acc"
      ],
      "metadata": {
        "id": "b25o0c68zM1R"
      },
      "execution_count": 67,
      "outputs": []
    },
    {
      "cell_type": "code",
      "source": [
        "test_acc = test_model(model, test_dataloader)\n",
        "\n",
        "print(\"Final Testing Accuracy: {:4f}\".format(test_acc * 100))"
      ],
      "metadata": {
        "id": "uJ0LwbExzMtU",
        "colab": {
          "base_uri": "https://localhost:8080/"
        },
        "outputId": "b95cc790-bc77-47c6-adf1-9985b72a3c00"
      },
      "execution_count": 68,
      "outputs": [
        {
          "output_type": "stream",
          "name": "stdout",
          "text": [
            "Final Testing Accuracy: 90.243902\n"
          ]
        }
      ]
    },
    {
      "cell_type": "code",
      "source": [],
      "metadata": {
        "id": "PjRYZBQxR_-3"
      },
      "execution_count": 245,
      "outputs": []
    },
    {
      "cell_type": "code",
      "source": [],
      "metadata": {
        "id": "VvzKYDFLR_8H"
      },
      "execution_count": 245,
      "outputs": []
    },
    {
      "cell_type": "code",
      "source": [],
      "metadata": {
        "id": "MBmwsML_R_5a"
      },
      "execution_count": 54,
      "outputs": []
    },
    {
      "cell_type": "code",
      "source": [],
      "metadata": {
        "id": "1Hmc2Y83Ft22"
      },
      "execution_count": null,
      "outputs": []
    },
    {
      "cell_type": "code",
      "source": [],
      "metadata": {
        "id": "UVoiHFF6TaJ3"
      },
      "execution_count": null,
      "outputs": []
    },
    {
      "cell_type": "code",
      "source": [],
      "metadata": {
        "id": "eMEiZZY7SK6w"
      },
      "execution_count": null,
      "outputs": []
    },
    {
      "cell_type": "code",
      "source": [],
      "metadata": {
        "id": "I3JK2_onl3OE"
      },
      "execution_count": null,
      "outputs": []
    },
    {
      "cell_type": "code",
      "source": [],
      "metadata": {
        "id": "VLgbYlZdl3Qy"
      },
      "execution_count": null,
      "outputs": []
    },
    {
      "cell_type": "code",
      "source": [],
      "metadata": {
        "id": "1nmYykBUl3Vn"
      },
      "execution_count": null,
      "outputs": []
    },
    {
      "cell_type": "code",
      "source": [],
      "metadata": {
        "id": "iTBIE_v_l3Y4"
      },
      "execution_count": null,
      "outputs": []
    },
    {
      "cell_type": "code",
      "source": [],
      "metadata": {
        "id": "-fVg622Ul3bu"
      },
      "execution_count": null,
      "outputs": []
    },
    {
      "cell_type": "code",
      "source": [],
      "metadata": {
        "id": "kRjV7tnCl3eM"
      },
      "execution_count": null,
      "outputs": []
    },
    {
      "cell_type": "code",
      "source": [],
      "metadata": {
        "id": "yb5tgiQBl3jz"
      },
      "execution_count": null,
      "outputs": []
    },
    {
      "cell_type": "code",
      "source": [],
      "metadata": {
        "id": "m6i9zsXFl3lw"
      },
      "execution_count": null,
      "outputs": []
    },
    {
      "cell_type": "code",
      "source": [],
      "metadata": {
        "id": "TgGFVwenl3oX"
      },
      "execution_count": null,
      "outputs": []
    }
  ]
}